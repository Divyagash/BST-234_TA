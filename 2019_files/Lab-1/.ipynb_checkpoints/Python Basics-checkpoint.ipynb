{
 "cells": [
  {
   "cell_type": "markdown",
   "metadata": {},
   "source": [
    "## Installing Python"
   ]
  },
  {
   "cell_type": "markdown",
   "metadata": {},
   "source": [
    "### Standard Installation"
   ]
  },
  {
   "cell_type": "markdown",
   "metadata": {},
   "source": [
    "https://www.python.org/downloads/"
   ]
  },
  {
   "cell_type": "markdown",
   "metadata": {},
   "source": [
    "https://wiki.python.org/moin/BeginnersGuide/Download"
   ]
  },
  {
   "cell_type": "markdown",
   "metadata": {},
   "source": [
    "pip installation"
   ]
  },
  {
   "cell_type": "markdown",
   "metadata": {},
   "source": [
    "https://pip.pypa.io/en/stable/installing/"
   ]
  },
  {
   "cell_type": "markdown",
   "metadata": {},
   "source": [
    "### Anaconda"
   ]
  },
  {
   "cell_type": "markdown",
   "metadata": {},
   "source": [
    "https://docs.anaconda.com/anaconda/install/"
   ]
  },
  {
   "cell_type": "code",
   "execution_count": null,
   "metadata": {},
   "outputs": [],
   "source": []
  },
  {
   "cell_type": "markdown",
   "metadata": {},
   "source": [
    "## Value Type"
   ]
  },
  {
   "cell_type": "markdown",
   "metadata": {},
   "source": [
    "### int"
   ]
  },
  {
   "cell_type": "code",
   "execution_count": 3,
   "metadata": {},
   "outputs": [
    {
     "data": {
      "text/plain": [
       "int"
      ]
     },
     "execution_count": 3,
     "metadata": {},
     "output_type": "execute_result"
    }
   ],
   "source": [
    "type(243)"
   ]
  },
  {
   "cell_type": "markdown",
   "metadata": {},
   "source": [
    "### float"
   ]
  },
  {
   "cell_type": "code",
   "execution_count": 4,
   "metadata": {},
   "outputs": [
    {
     "data": {
      "text/plain": [
       "float"
      ]
     },
     "execution_count": 4,
     "metadata": {},
     "output_type": "execute_result"
    }
   ],
   "source": [
    "type(243.34)"
   ]
  },
  {
   "cell_type": "markdown",
   "metadata": {},
   "source": [
    "### Boolean"
   ]
  },
  {
   "cell_type": "code",
   "execution_count": 5,
   "metadata": {},
   "outputs": [
    {
     "data": {
      "text/plain": [
       "bool"
      ]
     },
     "execution_count": 5,
     "metadata": {},
     "output_type": "execute_result"
    }
   ],
   "source": [
    "type(True)"
   ]
  },
  {
   "cell_type": "code",
   "execution_count": 6,
   "metadata": {},
   "outputs": [
    {
     "data": {
      "text/plain": [
       "bool"
      ]
     },
     "execution_count": 6,
     "metadata": {},
     "output_type": "execute_result"
    }
   ],
   "source": [
    "type(False)"
   ]
  },
  {
   "cell_type": "code",
   "execution_count": 7,
   "metadata": {},
   "outputs": [
    {
     "name": "stdout",
     "output_type": "stream",
     "text": [
      "False\n",
      "True\n",
      "False\n",
      "False\n"
     ]
    }
   ],
   "source": [
    "print(True and False)\n",
    "print(True and True)\n",
    "print(False and True)\n",
    "print(False and False)"
   ]
  },
  {
   "cell_type": "code",
   "execution_count": 8,
   "metadata": {},
   "outputs": [
    {
     "name": "stdout",
     "output_type": "stream",
     "text": [
      "True\n",
      "True\n",
      "True\n",
      "False\n"
     ]
    }
   ],
   "source": [
    "print(True or False)\n",
    "print(True or True)\n",
    "print(False or True)\n",
    "print(False or False)"
   ]
  },
  {
   "cell_type": "code",
   "execution_count": null,
   "metadata": {},
   "outputs": [],
   "source": []
  },
  {
   "cell_type": "markdown",
   "metadata": {},
   "source": [
    "### String"
   ]
  },
  {
   "cell_type": "code",
   "execution_count": 9,
   "metadata": {},
   "outputs": [
    {
     "data": {
      "text/plain": [
       "str"
      ]
     },
     "execution_count": 9,
     "metadata": {},
     "output_type": "execute_result"
    }
   ],
   "source": [
    "type('True')"
   ]
  },
  {
   "cell_type": "code",
   "execution_count": 10,
   "metadata": {},
   "outputs": [
    {
     "data": {
      "text/plain": [
       "str"
      ]
     },
     "execution_count": 10,
     "metadata": {},
     "output_type": "execute_result"
    }
   ],
   "source": [
    "type('Rio')"
   ]
  },
  {
   "cell_type": "markdown",
   "metadata": {},
   "source": [
    "### Exercise"
   ]
  },
  {
   "cell_type": "markdown",
   "metadata": {},
   "source": [
    "What would be the data type of the results for the following:"
   ]
  },
  {
   "cell_type": "code",
   "execution_count": 11,
   "metadata": {},
   "outputs": [
    {
     "data": {
      "text/plain": [
       "'Hello, World!'"
      ]
     },
     "execution_count": 11,
     "metadata": {},
     "output_type": "execute_result"
    }
   ],
   "source": [
    "\"Hello, \" + \"World!\""
   ]
  },
  {
   "cell_type": "code",
   "execution_count": 12,
   "metadata": {},
   "outputs": [
    {
     "data": {
      "text/plain": [
       "str"
      ]
     },
     "execution_count": 12,
     "metadata": {},
     "output_type": "execute_result"
    }
   ],
   "source": [
    "a = \"Hello, \" + \"World!\"\n",
    "type(a)"
   ]
  },
  {
   "cell_type": "code",
   "execution_count": 13,
   "metadata": {},
   "outputs": [
    {
     "data": {
      "text/plain": [
       "42"
      ]
     },
     "execution_count": 13,
     "metadata": {},
     "output_type": "execute_result"
    }
   ],
   "source": [
    "20 + 22"
   ]
  },
  {
   "cell_type": "code",
   "execution_count": 14,
   "metadata": {},
   "outputs": [
    {
     "data": {
      "text/plain": [
       "int"
      ]
     },
     "execution_count": 14,
     "metadata": {},
     "output_type": "execute_result"
    }
   ],
   "source": [
    "a = 20 + 22\n",
    "type(a)"
   ]
  },
  {
   "cell_type": "code",
   "execution_count": 15,
   "metadata": {},
   "outputs": [
    {
     "data": {
      "text/plain": [
       "42.0"
      ]
     },
     "execution_count": 15,
     "metadata": {},
     "output_type": "execute_result"
    }
   ],
   "source": [
    "20 + 22.0"
   ]
  },
  {
   "cell_type": "code",
   "execution_count": 16,
   "metadata": {},
   "outputs": [
    {
     "data": {
      "text/plain": [
       "float"
      ]
     },
     "execution_count": 16,
     "metadata": {},
     "output_type": "execute_result"
    }
   ],
   "source": [
    "a = 20 + 22.0\n",
    "type(a)"
   ]
  },
  {
   "cell_type": "code",
   "execution_count": 17,
   "metadata": {},
   "outputs": [
    {
     "ename": "TypeError",
     "evalue": "unsupported operand type(s) for +: 'int' and 'str'",
     "output_type": "error",
     "traceback": [
      "\u001b[0;31m---------------------------------------------------------------------------\u001b[0m",
      "\u001b[0;31mTypeError\u001b[0m                                 Traceback (most recent call last)",
      "\u001b[0;32m<ipython-input-17-fa0050667d1a>\u001b[0m in \u001b[0;36m<module>\u001b[0;34m()\u001b[0m\n\u001b[0;32m----> 1\u001b[0;31m \u001b[0;36m20\u001b[0m \u001b[0;34m+\u001b[0m \u001b[0;34m\"22.0\"\u001b[0m\u001b[0;34m\u001b[0m\u001b[0m\n\u001b[0m",
      "\u001b[0;31mTypeError\u001b[0m: unsupported operand type(s) for +: 'int' and 'str'"
     ]
    }
   ],
   "source": [
    "20 + \"22.0\""
   ]
  },
  {
   "cell_type": "code",
   "execution_count": 18,
   "metadata": {},
   "outputs": [
    {
     "ename": "TypeError",
     "evalue": "unsupported operand type(s) for +: 'int' and 'str'",
     "output_type": "error",
     "traceback": [
      "\u001b[0;31m---------------------------------------------------------------------------\u001b[0m",
      "\u001b[0;31mTypeError\u001b[0m                                 Traceback (most recent call last)",
      "\u001b[0;32m<ipython-input-18-d8387909dfa3>\u001b[0m in \u001b[0;36m<module>\u001b[0;34m()\u001b[0m\n\u001b[0;32m----> 1\u001b[0;31m \u001b[0ma\u001b[0m \u001b[0;34m=\u001b[0m \u001b[0;36m20\u001b[0m \u001b[0;34m+\u001b[0m \u001b[0;34m\"22.0\"\u001b[0m\u001b[0;34m\u001b[0m\u001b[0m\n\u001b[0m\u001b[1;32m      2\u001b[0m \u001b[0mtype\u001b[0m\u001b[0;34m(\u001b[0m\u001b[0ma\u001b[0m\u001b[0;34m)\u001b[0m\u001b[0;34m\u001b[0m\u001b[0m\n",
      "\u001b[0;31mTypeError\u001b[0m: unsupported operand type(s) for +: 'int' and 'str'"
     ]
    }
   ],
   "source": [
    "a = 20 + \"22.0\"\n",
    "type(a)"
   ]
  },
  {
   "cell_type": "code",
   "execution_count": 20,
   "metadata": {},
   "outputs": [
    {
     "data": {
      "text/plain": [
       "'22.022.022.022.022.022.022.022.022.022.022.022.022.022.022.022.022.022.022.022.0'"
      ]
     },
     "execution_count": 20,
     "metadata": {},
     "output_type": "execute_result"
    }
   ],
   "source": [
    "a = 20 * \"22.0\"\n",
    "type(a)\n",
    "a"
   ]
  },
  {
   "cell_type": "markdown",
   "metadata": {},
   "source": [
    "## Collection Type"
   ]
  },
  {
   "cell_type": "markdown",
   "metadata": {},
   "source": [
    "### List"
   ]
  },
  {
   "cell_type": "code",
   "execution_count": 21,
   "metadata": {},
   "outputs": [],
   "source": [
    "A = [3,45,5,7,8,9]"
   ]
  },
  {
   "cell_type": "markdown",
   "metadata": {},
   "source": [
    "#### List indexing"
   ]
  },
  {
   "cell_type": "code",
   "execution_count": 22,
   "metadata": {},
   "outputs": [
    {
     "data": {
      "text/plain": [
       "3"
      ]
     },
     "execution_count": 22,
     "metadata": {},
     "output_type": "execute_result"
    }
   ],
   "source": [
    "A[0]"
   ]
  },
  {
   "cell_type": "code",
   "execution_count": 23,
   "metadata": {},
   "outputs": [
    {
     "data": {
      "text/plain": [
       "9"
      ]
     },
     "execution_count": 23,
     "metadata": {},
     "output_type": "execute_result"
    }
   ],
   "source": [
    "A[-1]"
   ]
  },
  {
   "cell_type": "code",
   "execution_count": 24,
   "metadata": {},
   "outputs": [
    {
     "data": {
      "text/plain": [
       "8"
      ]
     },
     "execution_count": 24,
     "metadata": {},
     "output_type": "execute_result"
    }
   ],
   "source": [
    "A[-2]"
   ]
  },
  {
   "cell_type": "markdown",
   "metadata": {},
   "source": [
    "#### List slicing"
   ]
  },
  {
   "cell_type": "code",
   "execution_count": 25,
   "metadata": {},
   "outputs": [
    {
     "data": {
      "text/plain": [
       "[5, 7]"
      ]
     },
     "execution_count": 25,
     "metadata": {},
     "output_type": "execute_result"
    }
   ],
   "source": [
    "A[2:4]"
   ]
  },
  {
   "cell_type": "code",
   "execution_count": 26,
   "metadata": {},
   "outputs": [
    {
     "data": {
      "text/plain": [
       "[5, 7, 8, 9]"
      ]
     },
     "execution_count": 26,
     "metadata": {},
     "output_type": "execute_result"
    }
   ],
   "source": [
    "A[2:]"
   ]
  },
  {
   "cell_type": "markdown",
   "metadata": {},
   "source": [
    "How to get the first three elements of the list?"
   ]
  },
  {
   "cell_type": "code",
   "execution_count": 27,
   "metadata": {},
   "outputs": [
    {
     "data": {
      "text/plain": [
       "[3, 45, 5]"
      ]
     },
     "execution_count": 27,
     "metadata": {},
     "output_type": "execute_result"
    }
   ],
   "source": [
    "A[0:3]"
   ]
  },
  {
   "cell_type": "markdown",
   "metadata": {},
   "source": [
    "#### Appending to the list"
   ]
  },
  {
   "cell_type": "code",
   "execution_count": 28,
   "metadata": {},
   "outputs": [
    {
     "name": "stdout",
     "output_type": "stream",
     "text": [
      "[3, 45, 5, 7, 8, 9, 3]\n"
     ]
    }
   ],
   "source": [
    "A.append(3)\n",
    "print(A)"
   ]
  },
  {
   "cell_type": "code",
   "execution_count": 29,
   "metadata": {},
   "outputs": [
    {
     "name": "stdout",
     "output_type": "stream",
     "text": [
      "[3, 45, 5, 7, 8, 9, 3, [4, 5, 3]]\n"
     ]
    }
   ],
   "source": [
    "A.append([4,5,3])\n",
    "print(A)"
   ]
  },
  {
   "cell_type": "code",
   "execution_count": 30,
   "metadata": {},
   "outputs": [
    {
     "data": {
      "text/plain": [
       "[3, 45, 5, 7, 8, 9, 4, 5, 3]"
      ]
     },
     "execution_count": 30,
     "metadata": {},
     "output_type": "execute_result"
    }
   ],
   "source": [
    "A = [3,45,5,7,8,9]\n",
    "A.extend([4,5,3])\n",
    "A"
   ]
  },
  {
   "cell_type": "markdown",
   "metadata": {},
   "source": [
    "#### Lists are mutable"
   ]
  },
  {
   "cell_type": "code",
   "execution_count": 31,
   "metadata": {},
   "outputs": [
    {
     "data": {
      "text/plain": [
       "[34, 10, 56, 7, 78, 893, 12]"
      ]
     },
     "execution_count": 31,
     "metadata": {},
     "output_type": "execute_result"
    }
   ],
   "source": [
    "B = [34,5,56,7,78,893,12]\n",
    "B[1] = 10\n",
    "B"
   ]
  },
  {
   "cell_type": "markdown",
   "metadata": {},
   "source": [
    "#### Sorting the list"
   ]
  },
  {
   "cell_type": "code",
   "execution_count": 32,
   "metadata": {},
   "outputs": [
    {
     "data": {
      "text/plain": [
       "[6, 8, 34, 34, 45, 45, 45, 56, 65, 67, 78, 78, 789, 2346]"
      ]
     },
     "execution_count": 32,
     "metadata": {},
     "output_type": "execute_result"
    }
   ],
   "source": [
    "list_a = [45,65,67,8,45,34,6,78,56,789,34,2346,78,45]\n",
    "list_a.sort()\n",
    "list_a"
   ]
  },
  {
   "cell_type": "markdown",
   "metadata": {},
   "source": [
    "### Dictionary"
   ]
  },
  {
   "cell_type": "code",
   "execution_count": 33,
   "metadata": {},
   "outputs": [],
   "source": [
    "Dict = {'Afghanistan':'Kabul', 'Albania':'Tirana', 'Algeria':'Algiers'}"
   ]
  },
  {
   "cell_type": "markdown",
   "metadata": {},
   "source": [
    "Querying a dictionary"
   ]
  },
  {
   "cell_type": "code",
   "execution_count": 34,
   "metadata": {},
   "outputs": [
    {
     "data": {
      "text/plain": [
       "'Tirana'"
      ]
     },
     "execution_count": 34,
     "metadata": {},
     "output_type": "execute_result"
    }
   ],
   "source": [
    "Dict['Albania']"
   ]
  },
  {
   "cell_type": "markdown",
   "metadata": {},
   "source": [
    "Adding new elements"
   ]
  },
  {
   "cell_type": "code",
   "execution_count": 35,
   "metadata": {},
   "outputs": [],
   "source": [
    "Dict['United States of America'] = 'Washington D.C.'"
   ]
  },
  {
   "cell_type": "markdown",
   "metadata": {},
   "source": [
    "Checking elements of Dictionary"
   ]
  },
  {
   "cell_type": "code",
   "execution_count": 36,
   "metadata": {},
   "outputs": [
    {
     "data": {
      "text/plain": [
       "False"
      ]
     },
     "execution_count": 36,
     "metadata": {},
     "output_type": "execute_result"
    }
   ],
   "source": [
    "'Angola' in Dict"
   ]
  },
  {
   "cell_type": "markdown",
   "metadata": {},
   "source": [
    "Dictionary within a dictionary (Nested dictionaries)"
   ]
  },
  {
   "cell_type": "code",
   "execution_count": 37,
   "metadata": {},
   "outputs": [],
   "source": [
    "Dict = {'Afghanistan':{'Capital':'Kabul', 'population': 35530081}, 'Albania':{'Capital':'Tirana', 'population':2930187}, \n",
    "        'Algeria':{'Capital':'Algiers', 'population':41318142}}\n"
   ]
  },
  {
   "cell_type": "code",
   "execution_count": 38,
   "metadata": {},
   "outputs": [
    {
     "data": {
      "text/plain": [
       "'Kabul'"
      ]
     },
     "execution_count": 38,
     "metadata": {},
     "output_type": "execute_result"
    }
   ],
   "source": [
    "Dict['Afghanistan']['Capital']"
   ]
  },
  {
   "cell_type": "markdown",
   "metadata": {},
   "source": [
    "### Exercise"
   ]
  },
  {
   "cell_type": "markdown",
   "metadata": {},
   "source": [
    "What is the output of the following code"
   ]
  },
  {
   "cell_type": "code",
   "execution_count": 39,
   "metadata": {},
   "outputs": [
    {
     "name": "stdout",
     "output_type": "stream",
     "text": [
      "Afghanistan\n",
      "Albania\n",
      "Algeria\n"
     ]
    }
   ],
   "source": [
    "for k in Dict:\n",
    "    print(k)"
   ]
  },
  {
   "cell_type": "code",
   "execution_count": 40,
   "metadata": {},
   "outputs": [
    {
     "name": "stdout",
     "output_type": "stream",
     "text": [
      "{'Capital': 'Kabul', 'population': 35530081}\n",
      "{'Capital': 'Tirana', 'population': 2930187}\n",
      "{'Capital': 'Algiers', 'population': 41318142}\n"
     ]
    }
   ],
   "source": [
    "for k in Dict:\n",
    "    print(Dict[k])"
   ]
  },
  {
   "cell_type": "code",
   "execution_count": 41,
   "metadata": {},
   "outputs": [
    {
     "data": {
      "text/plain": [
       "dict_keys(['Afghanistan', 'Albania', 'Algeria'])"
      ]
     },
     "execution_count": 41,
     "metadata": {},
     "output_type": "execute_result"
    }
   ],
   "source": [
    "Dict.keys()"
   ]
  },
  {
   "cell_type": "code",
   "execution_count": 42,
   "metadata": {},
   "outputs": [
    {
     "data": {
      "text/plain": [
       "dict_values([{'Capital': 'Kabul', 'population': 35530081}, {'Capital': 'Tirana', 'population': 2930187}, {'Capital': 'Algiers', 'population': 41318142}])"
      ]
     },
     "execution_count": 42,
     "metadata": {},
     "output_type": "execute_result"
    }
   ],
   "source": [
    "Dict.values()"
   ]
  },
  {
   "cell_type": "markdown",
   "metadata": {},
   "source": [
    "### set"
   ]
  },
  {
   "cell_type": "code",
   "execution_count": 43,
   "metadata": {},
   "outputs": [],
   "source": [
    "a = {'dog', 'apple', 'table'}\n",
    "b = {'table', 'computer', 'cup'}"
   ]
  },
  {
   "cell_type": "code",
   "execution_count": 44,
   "metadata": {},
   "outputs": [
    {
     "data": {
      "text/plain": [
       "3"
      ]
     },
     "execution_count": 44,
     "metadata": {},
     "output_type": "execute_result"
    }
   ],
   "source": [
    "len(a)"
   ]
  },
  {
   "cell_type": "markdown",
   "metadata": {},
   "source": [
    "Sets cannot be indexed"
   ]
  },
  {
   "cell_type": "code",
   "execution_count": 45,
   "metadata": {},
   "outputs": [
    {
     "ename": "TypeError",
     "evalue": "'set' object does not support indexing",
     "output_type": "error",
     "traceback": [
      "\u001b[0;31m---------------------------------------------------------------------------\u001b[0m",
      "\u001b[0;31mTypeError\u001b[0m                                 Traceback (most recent call last)",
      "\u001b[0;32m<ipython-input-45-8bc71255a22e>\u001b[0m in \u001b[0;36m<module>\u001b[0;34m()\u001b[0m\n\u001b[0;32m----> 1\u001b[0;31m \u001b[0ma\u001b[0m\u001b[0;34m[\u001b[0m\u001b[0;36m1\u001b[0m\u001b[0;34m]\u001b[0m\u001b[0;34m\u001b[0m\u001b[0m\n\u001b[0m",
      "\u001b[0;31mTypeError\u001b[0m: 'set' object does not support indexing"
     ]
    }
   ],
   "source": [
    "a[1]"
   ]
  },
  {
   "cell_type": "code",
   "execution_count": 46,
   "metadata": {},
   "outputs": [
    {
     "data": {
      "text/plain": [
       "False"
      ]
     },
     "execution_count": 46,
     "metadata": {},
     "output_type": "execute_result"
    }
   ],
   "source": [
    "'cat' in a"
   ]
  },
  {
   "cell_type": "code",
   "execution_count": 47,
   "metadata": {},
   "outputs": [
    {
     "data": {
      "text/plain": [
       "{'apple', 'computer', 'cup', 'dog', 'table'}"
      ]
     },
     "execution_count": 47,
     "metadata": {},
     "output_type": "execute_result"
    }
   ],
   "source": [
    "a.union(b)"
   ]
  },
  {
   "cell_type": "code",
   "execution_count": 48,
   "metadata": {},
   "outputs": [
    {
     "data": {
      "text/plain": [
       "{'table'}"
      ]
     },
     "execution_count": 48,
     "metadata": {},
     "output_type": "execute_result"
    }
   ],
   "source": [
    "a.intersection(b)"
   ]
  },
  {
   "cell_type": "code",
   "execution_count": 49,
   "metadata": {},
   "outputs": [
    {
     "name": "stdout",
     "output_type": "stream",
     "text": [
      "{'dog', 'apple'}\n",
      "{'cup', 'computer'}\n"
     ]
    }
   ],
   "source": [
    "print(a.difference(b))\n",
    "print(b.difference(a))"
   ]
  },
  {
   "cell_type": "code",
   "execution_count": 50,
   "metadata": {},
   "outputs": [
    {
     "data": {
      "text/plain": [
       "{'apple', 'computer', 'cup', 'dog'}"
      ]
     },
     "execution_count": 50,
     "metadata": {},
     "output_type": "execute_result"
    }
   ],
   "source": [
    "a.symmetric_difference(b)"
   ]
  },
  {
   "cell_type": "markdown",
   "metadata": {},
   "source": [
    "### tuple"
   ]
  },
  {
   "cell_type": "code",
   "execution_count": 51,
   "metadata": {},
   "outputs": [],
   "source": [
    "a = (3,5,6,7,4,78)"
   ]
  },
  {
   "cell_type": "code",
   "execution_count": 52,
   "metadata": {},
   "outputs": [
    {
     "data": {
      "text/plain": [
       "(5, 6, 7, 4)"
      ]
     },
     "execution_count": 52,
     "metadata": {},
     "output_type": "execute_result"
    }
   ],
   "source": [
    "a[1:5]"
   ]
  },
  {
   "cell_type": "markdown",
   "metadata": {},
   "source": [
    "tuple can contain multiple data types"
   ]
  },
  {
   "cell_type": "code",
   "execution_count": 53,
   "metadata": {},
   "outputs": [],
   "source": [
    "b = ('Hello', 2 ,[3,4,2,4], 'Two')"
   ]
  },
  {
   "cell_type": "code",
   "execution_count": 54,
   "metadata": {},
   "outputs": [
    {
     "data": {
      "text/plain": [
       "3"
      ]
     },
     "execution_count": 54,
     "metadata": {},
     "output_type": "execute_result"
    }
   ],
   "source": [
    "a[0]"
   ]
  },
  {
   "cell_type": "markdown",
   "metadata": {},
   "source": [
    "Tuples are immutable; however, mutable objects within a tuple are mutable "
   ]
  },
  {
   "cell_type": "code",
   "execution_count": 55,
   "metadata": {},
   "outputs": [
    {
     "ename": "TypeError",
     "evalue": "'tuple' object does not support item assignment",
     "output_type": "error",
     "traceback": [
      "\u001b[0;31m---------------------------------------------------------------------------\u001b[0m",
      "\u001b[0;31mTypeError\u001b[0m                                 Traceback (most recent call last)",
      "\u001b[0;32m<ipython-input-55-fa1ba3f7cc8f>\u001b[0m in \u001b[0;36m<module>\u001b[0;34m()\u001b[0m\n\u001b[0;32m----> 1\u001b[0;31m \u001b[0ma\u001b[0m\u001b[0;34m[\u001b[0m\u001b[0;36m0\u001b[0m\u001b[0;34m]\u001b[0m \u001b[0;34m=\u001b[0m \u001b[0;36m2\u001b[0m\u001b[0;34m\u001b[0m\u001b[0m\n\u001b[0m",
      "\u001b[0;31mTypeError\u001b[0m: 'tuple' object does not support item assignment"
     ]
    }
   ],
   "source": [
    "a[0] = 2"
   ]
  },
  {
   "cell_type": "code",
   "execution_count": 56,
   "metadata": {},
   "outputs": [
    {
     "name": "stdout",
     "output_type": "stream",
     "text": [
      "('Hello', 2, [3, 4, 2, 12], 'Two')\n"
     ]
    }
   ],
   "source": [
    "b[2][3] = 12\n",
    "print(b)"
   ]
  },
  {
   "cell_type": "markdown",
   "metadata": {},
   "source": [
    "### Exercise"
   ]
  },
  {
   "cell_type": "markdown",
   "metadata": {},
   "source": [
    "Given the following string, count the number of words in the entire paragraph."
   ]
  },
  {
   "cell_type": "code",
   "execution_count": 57,
   "metadata": {},
   "outputs": [],
   "source": [
    "S = \"\"\"but I must explain to you how all this mistaken idea of \n",
    "        denouncing pleasure and praising pain was born and I will \n",
    "        give you a complete account of the system and expound the \n",
    "        actual teachings of the great explorer of the truth the \n",
    "        master-builder of human happiness no one rejects dislikes \n",
    "        or avoids pleasure itself because it is pleasure but because \n",
    "        those who do not know how to pursue pleasure rationally \n",
    "        encounter consequences that are extremely painful\n",
    "        nor again is there anyone who loves or pursues or desires \n",
    "        to obtain pain of itself because it is pain but because \n",
    "        occasionally circumstances occur in which toil and pain can \n",
    "        procure him some great pleasure to take a trivial example \n",
    "        which of us ever undertakes laborious physical exercise except \n",
    "        to obtain some advantage from it but who has any right to find \n",
    "        fault with a man who chooses to enjoy a pleasure that has no \n",
    "        annoying consequences or one who avoids a pain that produces no\n",
    "        resultant pleasure\"\"\""
   ]
  },
  {
   "cell_type": "code",
   "execution_count": 58,
   "metadata": {},
   "outputs": [],
   "source": [
    "S =\"but I must explain to you how all this mistaken idea of denouncing pleasure and praising pain was born and I will give you a complete account of the system and expound the actual teachings of the great explorer of the truth the master-builder of human happiness no one rejects dislikes or avoids pleasure itself because it is pleasure but because those who do not know how to pursue pleasure rationally encounter consequences that are extremely painfulnor again is there anyone who loves or pursues or desires to obtain pain of itself because it is pain but because occasionally circumstances occur in which toil and pain can procure him some great pleasure to take a trivial example which of us ever undertakes laborious physical exercise except to obtain some advantage from it but who has any right to find fault with a man who chooses to enjoy a pleasure that has no annoying consequences or one who avoids a pain that produces no resultant pleasure\""
   ]
  },
  {
   "cell_type": "code",
   "execution_count": 59,
   "metadata": {},
   "outputs": [
    {
     "data": {
      "text/plain": [
       "str"
      ]
     },
     "execution_count": 59,
     "metadata": {},
     "output_type": "execute_result"
    }
   ],
   "source": [
    "type(S)"
   ]
  },
  {
   "cell_type": "code",
   "execution_count": 60,
   "metadata": {},
   "outputs": [],
   "source": [
    "Str_split = S.split(\" \")"
   ]
  },
  {
   "cell_type": "code",
   "execution_count": 61,
   "metadata": {},
   "outputs": [
    {
     "data": {
      "text/plain": [
       "['but',\n",
       " 'I',\n",
       " 'must',\n",
       " 'explain',\n",
       " 'to',\n",
       " 'you',\n",
       " 'how',\n",
       " 'all',\n",
       " 'this',\n",
       " 'mistaken',\n",
       " 'idea',\n",
       " 'of',\n",
       " 'denouncing',\n",
       " 'pleasure',\n",
       " 'and',\n",
       " 'praising',\n",
       " 'pain',\n",
       " 'was',\n",
       " 'born',\n",
       " 'and',\n",
       " 'I',\n",
       " 'will',\n",
       " 'give',\n",
       " 'you',\n",
       " 'a',\n",
       " 'complete',\n",
       " 'account',\n",
       " 'of',\n",
       " 'the',\n",
       " 'system',\n",
       " 'and',\n",
       " 'expound',\n",
       " 'the',\n",
       " 'actual',\n",
       " 'teachings',\n",
       " 'of',\n",
       " 'the',\n",
       " 'great',\n",
       " 'explorer',\n",
       " 'of',\n",
       " 'the',\n",
       " 'truth',\n",
       " 'the',\n",
       " 'master-builder',\n",
       " 'of',\n",
       " 'human',\n",
       " 'happiness',\n",
       " 'no',\n",
       " 'one',\n",
       " 'rejects',\n",
       " 'dislikes',\n",
       " 'or',\n",
       " 'avoids',\n",
       " 'pleasure',\n",
       " 'itself',\n",
       " 'because',\n",
       " 'it',\n",
       " 'is',\n",
       " 'pleasure',\n",
       " 'but',\n",
       " 'because',\n",
       " 'those',\n",
       " 'who',\n",
       " 'do',\n",
       " 'not',\n",
       " 'know',\n",
       " 'how',\n",
       " 'to',\n",
       " 'pursue',\n",
       " 'pleasure',\n",
       " 'rationally',\n",
       " 'encounter',\n",
       " 'consequences',\n",
       " 'that',\n",
       " 'are',\n",
       " 'extremely',\n",
       " 'painfulnor',\n",
       " 'again',\n",
       " 'is',\n",
       " 'there',\n",
       " 'anyone',\n",
       " 'who',\n",
       " 'loves',\n",
       " 'or',\n",
       " 'pursues',\n",
       " 'or',\n",
       " 'desires',\n",
       " 'to',\n",
       " 'obtain',\n",
       " 'pain',\n",
       " 'of',\n",
       " 'itself',\n",
       " 'because',\n",
       " 'it',\n",
       " 'is',\n",
       " 'pain',\n",
       " 'but',\n",
       " 'because',\n",
       " 'occasionally',\n",
       " 'circumstances',\n",
       " 'occur',\n",
       " 'in',\n",
       " 'which',\n",
       " 'toil',\n",
       " 'and',\n",
       " 'pain',\n",
       " 'can',\n",
       " 'procure',\n",
       " 'him',\n",
       " 'some',\n",
       " 'great',\n",
       " 'pleasure',\n",
       " 'to',\n",
       " 'take',\n",
       " 'a',\n",
       " 'trivial',\n",
       " 'example',\n",
       " 'which',\n",
       " 'of',\n",
       " 'us',\n",
       " 'ever',\n",
       " 'undertakes',\n",
       " 'laborious',\n",
       " 'physical',\n",
       " 'exercise',\n",
       " 'except',\n",
       " 'to',\n",
       " 'obtain',\n",
       " 'some',\n",
       " 'advantage',\n",
       " 'from',\n",
       " 'it',\n",
       " 'but',\n",
       " 'who',\n",
       " 'has',\n",
       " 'any',\n",
       " 'right',\n",
       " 'to',\n",
       " 'find',\n",
       " 'fault',\n",
       " 'with',\n",
       " 'a',\n",
       " 'man',\n",
       " 'who',\n",
       " 'chooses',\n",
       " 'to',\n",
       " 'enjoy',\n",
       " 'a',\n",
       " 'pleasure',\n",
       " 'that',\n",
       " 'has',\n",
       " 'no',\n",
       " 'annoying',\n",
       " 'consequences',\n",
       " 'or',\n",
       " 'one',\n",
       " 'who',\n",
       " 'avoids',\n",
       " 'a',\n",
       " 'pain',\n",
       " 'that',\n",
       " 'produces',\n",
       " 'no',\n",
       " 'resultant',\n",
       " 'pleasure']"
      ]
     },
     "execution_count": 61,
     "metadata": {},
     "output_type": "execute_result"
    }
   ],
   "source": [
    "Str_split"
   ]
  },
  {
   "cell_type": "code",
   "execution_count": 62,
   "metadata": {},
   "outputs": [],
   "source": [
    "word_set = set(Str_split)"
   ]
  },
  {
   "cell_type": "code",
   "execution_count": 64,
   "metadata": {},
   "outputs": [],
   "source": [
    "word_Dict = {}\n",
    "\n",
    "for i in Str_split:\n",
    "    if i in word_Dict:\n",
    "        word_Dict[i] += 1\n",
    "    else:\n",
    "        word_Dict[i] = 1"
   ]
  },
  {
   "cell_type": "code",
   "execution_count": 65,
   "metadata": {},
   "outputs": [
    {
     "data": {
      "text/plain": [
       "{'but': 4,\n",
       " 'I': 2,\n",
       " 'must': 1,\n",
       " 'explain': 1,\n",
       " 'to': 7,\n",
       " 'you': 2,\n",
       " 'how': 2,\n",
       " 'all': 1,\n",
       " 'this': 1,\n",
       " 'mistaken': 1,\n",
       " 'idea': 1,\n",
       " 'of': 7,\n",
       " 'denouncing': 1,\n",
       " 'pleasure': 7,\n",
       " 'and': 4,\n",
       " 'praising': 1,\n",
       " 'pain': 5,\n",
       " 'was': 1,\n",
       " 'born': 1,\n",
       " 'will': 1,\n",
       " 'give': 1,\n",
       " 'a': 5,\n",
       " 'complete': 1,\n",
       " 'account': 1,\n",
       " 'the': 5,\n",
       " 'system': 1,\n",
       " 'expound': 1,\n",
       " 'actual': 1,\n",
       " 'teachings': 1,\n",
       " 'great': 2,\n",
       " 'explorer': 1,\n",
       " 'truth': 1,\n",
       " 'master-builder': 1,\n",
       " 'human': 1,\n",
       " 'happiness': 1,\n",
       " 'no': 3,\n",
       " 'one': 2,\n",
       " 'rejects': 1,\n",
       " 'dislikes': 1,\n",
       " 'or': 4,\n",
       " 'avoids': 2,\n",
       " 'itself': 2,\n",
       " 'because': 4,\n",
       " 'it': 3,\n",
       " 'is': 3,\n",
       " 'those': 1,\n",
       " 'who': 5,\n",
       " 'do': 1,\n",
       " 'not': 1,\n",
       " 'know': 1,\n",
       " 'pursue': 1,\n",
       " 'rationally': 1,\n",
       " 'encounter': 1,\n",
       " 'consequences': 2,\n",
       " 'that': 3,\n",
       " 'are': 1,\n",
       " 'extremely': 1,\n",
       " 'painfulnor': 1,\n",
       " 'again': 1,\n",
       " 'there': 1,\n",
       " 'anyone': 1,\n",
       " 'loves': 1,\n",
       " 'pursues': 1,\n",
       " 'desires': 1,\n",
       " 'obtain': 2,\n",
       " 'occasionally': 1,\n",
       " 'circumstances': 1,\n",
       " 'occur': 1,\n",
       " 'in': 1,\n",
       " 'which': 2,\n",
       " 'toil': 1,\n",
       " 'can': 1,\n",
       " 'procure': 1,\n",
       " 'him': 1,\n",
       " 'some': 2,\n",
       " 'take': 1,\n",
       " 'trivial': 1,\n",
       " 'example': 1,\n",
       " 'us': 1,\n",
       " 'ever': 1,\n",
       " 'undertakes': 1,\n",
       " 'laborious': 1,\n",
       " 'physical': 1,\n",
       " 'exercise': 1,\n",
       " 'except': 1,\n",
       " 'advantage': 1,\n",
       " 'from': 1,\n",
       " 'has': 2,\n",
       " 'any': 1,\n",
       " 'right': 1,\n",
       " 'find': 1,\n",
       " 'fault': 1,\n",
       " 'with': 1,\n",
       " 'man': 1,\n",
       " 'chooses': 1,\n",
       " 'enjoy': 1,\n",
       " 'annoying': 1,\n",
       " 'produces': 1,\n",
       " 'resultant': 1}"
      ]
     },
     "execution_count": 65,
     "metadata": {},
     "output_type": "execute_result"
    }
   ],
   "source": [
    "word_Dict"
   ]
  },
  {
   "cell_type": "code",
   "execution_count": null,
   "metadata": {},
   "outputs": [],
   "source": [
    "a = a + 1\n",
    "a += 1"
   ]
  },
  {
   "cell_type": "code",
   "execution_count": null,
   "metadata": {},
   "outputs": [],
   "source": []
  },
  {
   "cell_type": "markdown",
   "metadata": {},
   "source": [
    "## Control Flow"
   ]
  },
  {
   "cell_type": "markdown",
   "metadata": {},
   "source": [
    "#### if/else"
   ]
  },
  {
   "cell_type": "code",
   "execution_count": 66,
   "metadata": {},
   "outputs": [
    {
     "name": "stdout",
     "output_type": "stream",
     "text": [
      "1200\n"
     ]
    }
   ],
   "source": [
    "hours = 50\n",
    "\n",
    "if hours <= 40:\n",
    "    print(hours*20)\n",
    "elif (hours > 40) and (hours <= 80):\n",
    "    print((40*20) + ((hours-40)*40))\n",
    "else:\n",
    "    print((40*20) + (40*40) + ((hours-80)*60))\n"
   ]
  },
  {
   "cell_type": "markdown",
   "metadata": {},
   "source": [
    "## Loops"
   ]
  },
  {
   "cell_type": "markdown",
   "metadata": {},
   "source": [
    "## For loop"
   ]
  },
  {
   "cell_type": "code",
   "execution_count": 67,
   "metadata": {},
   "outputs": [
    {
     "name": "stdout",
     "output_type": "stream",
     "text": [
      "0\n",
      "1\n",
      "4\n",
      "9\n",
      "16\n",
      "25\n",
      "36\n",
      "49\n",
      "64\n",
      "81\n",
      "100\n",
      "121\n",
      "144\n",
      "169\n",
      "196\n",
      "225\n",
      "256\n",
      "289\n",
      "324\n",
      "361\n",
      "400\n",
      "441\n",
      "484\n",
      "529\n",
      "576\n",
      "625\n",
      "676\n",
      "729\n",
      "784\n",
      "841\n"
     ]
    }
   ],
   "source": [
    "for i in range(30):\n",
    "    print(i**2)"
   ]
  },
  {
   "cell_type": "code",
   "execution_count": null,
   "metadata": {},
   "outputs": [],
   "source": []
  },
  {
   "cell_type": "markdown",
   "metadata": {},
   "source": [
    "## While loop"
   ]
  },
  {
   "cell_type": "code",
   "execution_count": 68,
   "metadata": {},
   "outputs": [
    {
     "name": "stdout",
     "output_type": "stream",
     "text": [
      "4\n",
      "16\n",
      "256\n",
      "65536\n"
     ]
    }
   ],
   "source": [
    "i = 2\n",
    "while i < 1000:\n",
    "    i = i*i\n",
    "    print(i)"
   ]
  },
  {
   "cell_type": "markdown",
   "metadata": {
    "collapsed": true
   },
   "source": [
    "### Exercise"
   ]
  },
  {
   "cell_type": "markdown",
   "metadata": {},
   "source": [
    "1. Given a list L find all the unique elements in the list"
   ]
  },
  {
   "cell_type": "code",
   "execution_count": 1,
   "metadata": {},
   "outputs": [],
   "source": [
    "L = [34,56,3,98,56,956,8,45,34,6778,68,956,3423,56,6,90,23,23,56,68,892,98]"
   ]
  },
  {
   "cell_type": "code",
   "execution_count": 69,
   "metadata": {},
   "outputs": [
    {
     "data": {
      "text/plain": [
       "{3, 6, 8, 23, 34, 45, 56, 68, 90, 98, 892, 956, 3423, 6778}"
      ]
     },
     "execution_count": 69,
     "metadata": {},
     "output_type": "execute_result"
    }
   ],
   "source": [
    "set(L)"
   ]
  },
  {
   "cell_type": "code",
   "execution_count": null,
   "metadata": {},
   "outputs": [],
   "source": []
  },
  {
   "cell_type": "markdown",
   "metadata": {},
   "source": [
    "2. Find the second smallest element in a list"
   ]
  },
  {
   "cell_type": "code",
   "execution_count": 109,
   "metadata": {},
   "outputs": [],
   "source": [
    "A = [456,7,4,67,45,76,5,67,435,567,345,576,7345,57,68,456,567,545]"
   ]
  },
  {
   "cell_type": "code",
   "execution_count": 110,
   "metadata": {},
   "outputs": [],
   "source": [
    "smallest = 9999999999999\n",
    "second_smallest = 88888888888"
   ]
  },
  {
   "cell_type": "code",
   "execution_count": 111,
   "metadata": {},
   "outputs": [],
   "source": [
    "for i in A:\n",
    "    if i < smallest:\n",
    "        smallest, second_smallest = i, smallest\n",
    "    elif i < second_smallest:\n",
    "    \tsecond_smallest = i\n",
    "\n",
    "        \n",
    "        "
   ]
  },
  {
   "cell_type": "code",
   "execution_count": 112,
   "metadata": {},
   "outputs": [
    {
     "data": {
      "text/plain": [
       "4"
      ]
     },
     "execution_count": 112,
     "metadata": {},
     "output_type": "execute_result"
    }
   ],
   "source": [
    "smallest"
   ]
  },
  {
   "cell_type": "markdown",
   "metadata": {},
   "source": [
    "## Function"
   ]
  },
  {
   "cell_type": "code",
   "execution_count": 113,
   "metadata": {},
   "outputs": [],
   "source": [
    "def Taylor_exp_approx(x):\n",
    "    result = 1 + x + (x**2)/(1*2) + (x**3)/(1*2*3)\n",
    "    return result\n",
    "    \n",
    "    "
   ]
  },
  {
   "cell_type": "code",
   "execution_count": 114,
   "metadata": {},
   "outputs": [
    {
     "data": {
      "text/plain": [
       "1.3495"
      ]
     },
     "execution_count": 114,
     "metadata": {},
     "output_type": "execute_result"
    }
   ],
   "source": [
    "Taylor_exp_approx(0.3)"
   ]
  },
  {
   "cell_type": "markdown",
   "metadata": {},
   "source": [
    "Write a function to say if a number is a prime"
   ]
  },
  {
   "cell_type": "code",
   "execution_count": null,
   "metadata": {},
   "outputs": [],
   "source": [
    "def primeCheck(n):\n",
    "    if n is prime:\n",
    "        print(\"%d is a prime number\" % n)\n",
    "    if n is not prime:\n",
    "        print(\"%d is not a prime number\" % n)\n",
    "    "
   ]
  },
  {
   "cell_type": "markdown",
   "metadata": {},
   "source": [
    "# Some important bulit-in functions"
   ]
  },
  {
   "cell_type": "markdown",
   "metadata": {},
   "source": [
    "### Math functions"
   ]
  },
  {
   "cell_type": "code",
   "execution_count": 115,
   "metadata": {},
   "outputs": [],
   "source": [
    "import math"
   ]
  },
  {
   "cell_type": "code",
   "execution_count": 116,
   "metadata": {},
   "outputs": [
    {
     "name": "stdout",
     "output_type": "stream",
     "text": [
      "2.1972245773362196\n",
      "0.9542425094393249\n",
      "3.169925001442312\n"
     ]
    }
   ],
   "source": [
    "print(math.log(9))\n",
    "print(math.log10(9))\n",
    "print(math.log2(9))"
   ]
  },
  {
   "cell_type": "code",
   "execution_count": 117,
   "metadata": {},
   "outputs": [
    {
     "data": {
      "text/plain": [
       "3.141592653589793"
      ]
     },
     "execution_count": 117,
     "metadata": {},
     "output_type": "execute_result"
    }
   ],
   "source": [
    "math.pi"
   ]
  },
  {
   "cell_type": "code",
   "execution_count": 118,
   "metadata": {},
   "outputs": [
    {
     "data": {
      "text/plain": [
       "2.718281828459045"
      ]
     },
     "execution_count": 118,
     "metadata": {},
     "output_type": "execute_result"
    }
   ],
   "source": [
    "math.e"
   ]
  },
  {
   "cell_type": "code",
   "execution_count": 119,
   "metadata": {},
   "outputs": [
    {
     "data": {
      "text/plain": [
       "8103.083927575384"
      ]
     },
     "execution_count": 119,
     "metadata": {},
     "output_type": "execute_result"
    }
   ],
   "source": [
    "math.exp(9)"
   ]
  },
  {
   "cell_type": "code",
   "execution_count": 120,
   "metadata": {},
   "outputs": [
    {
     "data": {
      "text/plain": [
       "9"
      ]
     },
     "execution_count": 120,
     "metadata": {},
     "output_type": "execute_result"
    }
   ],
   "source": [
    "math.floor(9.423)"
   ]
  },
  {
   "cell_type": "code",
   "execution_count": 121,
   "metadata": {},
   "outputs": [
    {
     "data": {
      "text/plain": [
       "10"
      ]
     },
     "execution_count": 121,
     "metadata": {},
     "output_type": "execute_result"
    }
   ],
   "source": [
    "math.ceil(9.423)"
   ]
  },
  {
   "cell_type": "code",
   "execution_count": 122,
   "metadata": {},
   "outputs": [
    {
     "data": {
      "text/plain": [
       "1.0"
      ]
     },
     "execution_count": 122,
     "metadata": {},
     "output_type": "execute_result"
    }
   ],
   "source": [
    "math.fmod(15, 7)"
   ]
  },
  {
   "cell_type": "code",
   "execution_count": 123,
   "metadata": {},
   "outputs": [
    {
     "data": {
      "text/plain": [
       "1"
      ]
     },
     "execution_count": 123,
     "metadata": {},
     "output_type": "execute_result"
    }
   ],
   "source": [
    "15 % 7"
   ]
  },
  {
   "cell_type": "markdown",
   "metadata": {},
   "source": [
    "### Print function"
   ]
  },
  {
   "cell_type": "code",
   "execution_count": 124,
   "metadata": {},
   "outputs": [
    {
     "name": "stdout",
     "output_type": "stream",
     "text": [
      "Hello\n"
     ]
    }
   ],
   "source": [
    "print('Hello')"
   ]
  },
  {
   "cell_type": "code",
   "execution_count": 125,
   "metadata": {},
   "outputs": [
    {
     "name": "stdout",
     "output_type": "stream",
     "text": [
      "Hello 2\n"
     ]
    }
   ],
   "source": [
    "print('Hello', 2)"
   ]
  },
  {
   "cell_type": "code",
   "execution_count": 126,
   "metadata": {},
   "outputs": [
    {
     "name": "stdout",
     "output_type": "stream",
     "text": [
      "Hello this is me I have 89 dollars\n"
     ]
    }
   ],
   "source": [
    "print('Hello this is %s I have %d dollars' %('me', 89))"
   ]
  },
  {
   "cell_type": "code",
   "execution_count": 127,
   "metadata": {},
   "outputs": [
    {
     "name": "stdout",
     "output_type": "stream",
     "text": [
      "The answer is 45.68\n"
     ]
    }
   ],
   "source": [
    "print('The answer is %0.2f' %(45.67534))"
   ]
  },
  {
   "cell_type": "markdown",
   "metadata": {},
   "source": [
    "### String Function"
   ]
  },
  {
   "cell_type": "code",
   "execution_count": 128,
   "metadata": {},
   "outputs": [],
   "source": [
    "name = 'Ireland'"
   ]
  },
  {
   "cell_type": "code",
   "execution_count": 129,
   "metadata": {},
   "outputs": [
    {
     "data": {
      "text/plain": [
       "['Ir', 'land']"
      ]
     },
     "execution_count": 129,
     "metadata": {},
     "output_type": "execute_result"
    }
   ],
   "source": [
    "name.split('e')"
   ]
  },
  {
   "cell_type": "code",
   "execution_count": 130,
   "metadata": {},
   "outputs": [],
   "source": [
    "name_2 = 'elephant'"
   ]
  },
  {
   "cell_type": "code",
   "execution_count": 132,
   "metadata": {},
   "outputs": [
    {
     "data": {
      "text/plain": [
       "['', 'lephant']"
      ]
     },
     "execution_count": 132,
     "metadata": {},
     "output_type": "execute_result"
    }
   ],
   "source": [
    "name_2.split('e',1)"
   ]
  },
  {
   "cell_type": "code",
   "execution_count": 133,
   "metadata": {},
   "outputs": [
    {
     "data": {
      "text/plain": [
       "3"
      ]
     },
     "execution_count": 133,
     "metadata": {},
     "output_type": "execute_result"
    }
   ],
   "source": [
    "name_2.find('p')"
   ]
  },
  {
   "cell_type": "code",
   "execution_count": 134,
   "metadata": {},
   "outputs": [
    {
     "data": {
      "text/plain": [
       "3"
      ]
     },
     "execution_count": 134,
     "metadata": {},
     "output_type": "execute_result"
    }
   ],
   "source": [
    "a = 'banana'\n",
    "a.find('an',2)"
   ]
  },
  {
   "cell_type": "code",
   "execution_count": 135,
   "metadata": {},
   "outputs": [
    {
     "data": {
      "text/plain": [
       "'Hello World'"
      ]
     },
     "execution_count": 135,
     "metadata": {},
     "output_type": "execute_result"
    }
   ],
   "source": [
    "b = '  Hello World '\n",
    "b.strip()"
   ]
  },
  {
   "cell_type": "code",
   "execution_count": 136,
   "metadata": {},
   "outputs": [
    {
     "data": {
      "text/plain": [
       "'  Hello World'"
      ]
     },
     "execution_count": 136,
     "metadata": {},
     "output_type": "execute_result"
    }
   ],
   "source": [
    "b.rstrip()"
   ]
  },
  {
   "cell_type": "code",
   "execution_count": 137,
   "metadata": {},
   "outputs": [
    {
     "data": {
      "text/plain": [
       "'Hello World '"
      ]
     },
     "execution_count": 137,
     "metadata": {},
     "output_type": "execute_result"
    }
   ],
   "source": [
    "b.lstrip()"
   ]
  },
  {
   "cell_type": "code",
   "execution_count": 138,
   "metadata": {},
   "outputs": [
    {
     "data": {
      "text/plain": [
       "2"
      ]
     },
     "execution_count": 138,
     "metadata": {},
     "output_type": "execute_result"
    }
   ],
   "source": [
    "a.count('n')"
   ]
  },
  {
   "cell_type": "code",
   "execution_count": 139,
   "metadata": {},
   "outputs": [
    {
     "data": {
      "text/plain": [
       "'Ireland elephant'"
      ]
     },
     "execution_count": 139,
     "metadata": {},
     "output_type": "execute_result"
    }
   ],
   "source": [
    "' '.join([name,name_2])"
   ]
  },
  {
   "cell_type": "markdown",
   "metadata": {},
   "source": [
    "### File Maniputation"
   ]
  },
  {
   "cell_type": "markdown",
   "metadata": {},
   "source": [
    "Create file"
   ]
  },
  {
   "cell_type": "code",
   "execution_count": 140,
   "metadata": {},
   "outputs": [],
   "source": [
    "f = open(\"new.txt\",\"w+\")"
   ]
  },
  {
   "cell_type": "markdown",
   "metadata": {},
   "source": [
    "Update or write in a file"
   ]
  },
  {
   "cell_type": "code",
   "execution_count": 141,
   "metadata": {},
   "outputs": [],
   "source": [
    "for i in range(100):\n",
    "     f.write(\"This is line %d\\n\" % (i+1))\n",
    "f.close()"
   ]
  },
  {
   "cell_type": "markdown",
   "metadata": {},
   "source": [
    "Read a file"
   ]
  },
  {
   "cell_type": "code",
   "execution_count": 142,
   "metadata": {
    "collapsed": true
   },
   "outputs": [
    {
     "name": "stdout",
     "output_type": "stream",
     "text": [
      "This is line 1\n",
      "This is line 2\n",
      "This is line 3\n",
      "This is line 4\n",
      "This is line 5\n",
      "This is line 6\n",
      "This is line 7\n",
      "This is line 8\n",
      "This is line 9\n",
      "This is line 10\n",
      "This is line 11\n",
      "This is line 12\n",
      "This is line 13\n",
      "This is line 14\n",
      "This is line 15\n",
      "This is line 16\n",
      "This is line 17\n",
      "This is line 18\n",
      "This is line 19\n",
      "This is line 20\n",
      "This is line 21\n",
      "This is line 22\n",
      "This is line 23\n",
      "This is line 24\n",
      "This is line 25\n",
      "This is line 26\n",
      "This is line 27\n",
      "This is line 28\n",
      "This is line 29\n",
      "This is line 30\n",
      "This is line 31\n",
      "This is line 32\n",
      "This is line 33\n",
      "This is line 34\n",
      "This is line 35\n",
      "This is line 36\n",
      "This is line 37\n",
      "This is line 38\n",
      "This is line 39\n",
      "This is line 40\n",
      "This is line 41\n",
      "This is line 42\n",
      "This is line 43\n",
      "This is line 44\n",
      "This is line 45\n",
      "This is line 46\n",
      "This is line 47\n",
      "This is line 48\n",
      "This is line 49\n",
      "This is line 50\n",
      "This is line 51\n",
      "This is line 52\n",
      "This is line 53\n",
      "This is line 54\n",
      "This is line 55\n",
      "This is line 56\n",
      "This is line 57\n",
      "This is line 58\n",
      "This is line 59\n",
      "This is line 60\n",
      "This is line 61\n",
      "This is line 62\n",
      "This is line 63\n",
      "This is line 64\n",
      "This is line 65\n",
      "This is line 66\n",
      "This is line 67\n",
      "This is line 68\n",
      "This is line 69\n",
      "This is line 70\n",
      "This is line 71\n",
      "This is line 72\n",
      "This is line 73\n",
      "This is line 74\n",
      "This is line 75\n",
      "This is line 76\n",
      "This is line 77\n",
      "This is line 78\n",
      "This is line 79\n",
      "This is line 80\n",
      "This is line 81\n",
      "This is line 82\n",
      "This is line 83\n",
      "This is line 84\n",
      "This is line 85\n",
      "This is line 86\n",
      "This is line 87\n",
      "This is line 88\n",
      "This is line 89\n",
      "This is line 90\n",
      "This is line 91\n",
      "This is line 92\n",
      "This is line 93\n",
      "This is line 94\n",
      "This is line 95\n",
      "This is line 96\n",
      "This is line 97\n",
      "This is line 98\n",
      "This is line 99\n",
      "This is line 100\n",
      "\n"
     ]
    }
   ],
   "source": [
    "file = open(\"new.txt\", \"r\") \n",
    "print (file.read())"
   ]
  },
  {
   "cell_type": "code",
   "execution_count": 145,
   "metadata": {},
   "outputs": [
    {
     "name": "stdout",
     "output_type": "stream",
     "text": [
      "This is line 1\n",
      "\n",
      "This is line 2\n",
      "\n",
      "This is line 3\n",
      "\n",
      "This is line 4\n",
      "\n",
      "This is line 5\n",
      "\n",
      "This is line 6\n",
      "\n",
      "This is line 7\n",
      "\n",
      "This is line 8\n",
      "\n",
      "This is line 9\n",
      "\n",
      "This is line 10\n",
      "\n",
      "This is line 11\n",
      "\n",
      "This is line 12\n",
      "\n",
      "This is line 13\n",
      "\n",
      "This is line 14\n",
      "\n",
      "This is line 15\n",
      "\n",
      "This is line 16\n",
      "\n",
      "This is line 17\n",
      "\n",
      "This is line 18\n",
      "\n",
      "This is line 19\n",
      "\n",
      "This is line 20\n",
      "\n",
      "This is line 21\n",
      "\n",
      "This is line 22\n",
      "\n",
      "This is line 23\n",
      "\n",
      "This is line 24\n",
      "\n",
      "This is line 25\n",
      "\n",
      "This is line 26\n",
      "\n",
      "This is line 27\n",
      "\n",
      "This is line 28\n",
      "\n",
      "This is line 29\n",
      "\n",
      "This is line 30\n",
      "\n",
      "This is line 31\n",
      "\n",
      "This is line 32\n",
      "\n",
      "This is line 33\n",
      "\n",
      "This is line 34\n",
      "\n",
      "This is line 35\n",
      "\n",
      "This is line 36\n",
      "\n",
      "This is line 37\n",
      "\n",
      "This is line 38\n",
      "\n",
      "This is line 39\n",
      "\n",
      "This is line 40\n",
      "\n",
      "This is line 41\n",
      "\n",
      "This is line 42\n",
      "\n",
      "This is line 43\n",
      "\n",
      "This is line 44\n",
      "\n",
      "This is line 45\n",
      "\n",
      "This is line 46\n",
      "\n",
      "This is line 47\n",
      "\n",
      "This is line 48\n",
      "\n",
      "This is line 49\n",
      "\n",
      "This is line 50\n",
      "\n",
      "This is line 51\n",
      "\n",
      "This is line 52\n",
      "\n",
      "This is line 53\n",
      "\n",
      "This is line 54\n",
      "\n",
      "This is line 55\n",
      "\n",
      "This is line 56\n",
      "\n",
      "This is line 57\n",
      "\n",
      "This is line 58\n",
      "\n",
      "This is line 59\n",
      "\n",
      "This is line 60\n",
      "\n",
      "This is line 61\n",
      "\n",
      "This is line 62\n",
      "\n",
      "This is line 63\n",
      "\n",
      "This is line 64\n",
      "\n",
      "This is line 65\n",
      "\n",
      "This is line 66\n",
      "\n",
      "This is line 67\n",
      "\n",
      "This is line 68\n",
      "\n",
      "This is line 69\n",
      "\n",
      "This is line 70\n",
      "\n",
      "This is line 71\n",
      "\n",
      "This is line 72\n",
      "\n",
      "This is line 73\n",
      "\n",
      "This is line 74\n",
      "\n",
      "This is line 75\n",
      "\n",
      "This is line 76\n",
      "\n",
      "This is line 77\n",
      "\n",
      "This is line 78\n",
      "\n",
      "This is line 79\n",
      "\n",
      "This is line 80\n",
      "\n",
      "This is line 81\n",
      "\n",
      "This is line 82\n",
      "\n",
      "This is line 83\n",
      "\n",
      "This is line 84\n",
      "\n",
      "This is line 85\n",
      "\n",
      "This is line 86\n",
      "\n",
      "This is line 87\n",
      "\n",
      "This is line 88\n",
      "\n",
      "This is line 89\n",
      "\n",
      "This is line 90\n",
      "\n",
      "This is line 91\n",
      "\n",
      "This is line 92\n",
      "\n",
      "This is line 93\n",
      "\n",
      "This is line 94\n",
      "\n",
      "This is line 95\n",
      "\n",
      "This is line 96\n",
      "\n",
      "This is line 97\n",
      "\n",
      "This is line 98\n",
      "\n",
      "This is line 99\n",
      "\n",
      "This is line 100\n",
      "\n"
     ]
    }
   ],
   "source": [
    "file = open(\"new.txt\", \"r\") \n",
    "for line in file: \n",
    "    print (line)"
   ]
  },
  {
   "cell_type": "markdown",
   "metadata": {},
   "source": [
    "### Exercise"
   ]
  },
  {
   "cell_type": "markdown",
   "metadata": {},
   "source": [
    "Print the even numbered lines of the text file new.txt"
   ]
  },
  {
   "cell_type": "code",
   "execution_count": null,
   "metadata": {},
   "outputs": [],
   "source": []
  },
  {
   "cell_type": "markdown",
   "metadata": {},
   "source": [
    "## Data file Manipulation"
   ]
  },
  {
   "cell_type": "code",
   "execution_count": 146,
   "metadata": {},
   "outputs": [],
   "source": [
    " import csv"
   ]
  },
  {
   "cell_type": "code",
   "execution_count": 147,
   "metadata": {},
   "outputs": [
    {
     "name": "stdout",
     "output_type": "stream",
     "text": [
      "21 4\n",
      "21 4\n",
      "22.8 4\n",
      "21.4 3\n",
      "18.7 3\n",
      "18.1 3\n",
      "14.3 3\n",
      "24.4 4\n",
      "22.8 4\n",
      "19.2 4\n",
      "17.8 4\n",
      "16.4 3\n",
      "17.3 3\n",
      "15.2 3\n",
      "10.4 3\n",
      "10.4 3\n",
      "14.7 3\n",
      "32.4 4\n",
      "30.4 4\n",
      "33.9 4\n",
      "21.5 3\n",
      "15.5 3\n",
      "15.2 3\n",
      "13.3 3\n",
      "19.2 3\n",
      "27.3 4\n",
      "26 5\n",
      "30.4 5\n",
      "15.8 5\n",
      "19.7 5\n",
      "15 5\n",
      "21.4 4\n"
     ]
    }
   ],
   "source": [
    "with open('mtcars.csv') as csvfile:\n",
    "    reader = csv.DictReader(csvfile)\n",
    "    for row in reader:\n",
    "        print (row['mpg'], row['gear'])"
   ]
  },
  {
   "cell_type": "code",
   "execution_count": null,
   "metadata": {},
   "outputs": [],
   "source": []
  },
  {
   "cell_type": "code",
   "execution_count": null,
   "metadata": {},
   "outputs": [],
   "source": []
  },
  {
   "cell_type": "markdown",
   "metadata": {},
   "source": [
    "## Additional tips and tricks"
   ]
  },
  {
   "cell_type": "markdown",
   "metadata": {},
   "source": [
    "### lambda function"
   ]
  },
  {
   "cell_type": "code",
   "execution_count": 148,
   "metadata": {},
   "outputs": [],
   "source": [
    "g = lambda x: 7*x**3 + 2"
   ]
  },
  {
   "cell_type": "code",
   "execution_count": 149,
   "metadata": {},
   "outputs": [
    {
     "data": {
      "text/plain": [
       "58"
      ]
     },
     "execution_count": 149,
     "metadata": {},
     "output_type": "execute_result"
    }
   ],
   "source": [
    "g(2)"
   ]
  },
  {
   "cell_type": "markdown",
   "metadata": {},
   "source": [
    "Vectorized operation in a list"
   ]
  },
  {
   "cell_type": "code",
   "execution_count": 150,
   "metadata": {},
   "outputs": [],
   "source": [
    "A = [1,2,3,4,5,6,7]"
   ]
  },
  {
   "cell_type": "code",
   "execution_count": 151,
   "metadata": {},
   "outputs": [
    {
     "name": "stdout",
     "output_type": "stream",
     "text": [
      "[1, 4, 9, 16, 25, 36, 49]\n"
     ]
    }
   ],
   "source": [
    "Square_A = [i**2 for i in A]\n",
    "print(Square_A)"
   ]
  },
  {
   "cell_type": "markdown",
   "metadata": {},
   "source": [
    "### range "
   ]
  },
  {
   "cell_type": "code",
   "execution_count": 152,
   "metadata": {},
   "outputs": [
    {
     "data": {
      "text/plain": [
       "range(2, 13)"
      ]
     },
     "execution_count": 152,
     "metadata": {},
     "output_type": "execute_result"
    }
   ],
   "source": [
    "range(2,13)"
   ]
  },
  {
   "cell_type": "code",
   "execution_count": 153,
   "metadata": {},
   "outputs": [
    {
     "data": {
      "text/plain": [
       "range(2, 13, 2)"
      ]
     },
     "execution_count": 153,
     "metadata": {},
     "output_type": "execute_result"
    }
   ],
   "source": [
    "range(2,13,2)"
   ]
  },
  {
   "cell_type": "markdown",
   "metadata": {},
   "source": [
    "### Zip "
   ]
  },
  {
   "cell_type": "code",
   "execution_count": 154,
   "metadata": {},
   "outputs": [
    {
     "name": "stdout",
     "output_type": "stream",
     "text": [
      "[(40.56, 45.56), (67.89, 23.26), (45.23, 89.45)]\n"
     ]
    }
   ],
   "source": [
    "longitude = [40.56, 67.89, 45.23]\n",
    "latitude = [45.56, 23.26, 89.45]\n",
    "location = zip(longitude, latitude)\n",
    "print(list(location))"
   ]
  },
  {
   "cell_type": "markdown",
   "metadata": {},
   "source": [
    "### map"
   ]
  },
  {
   "cell_type": "code",
   "execution_count": 155,
   "metadata": {},
   "outputs": [],
   "source": [
    "list_1 = [0.2,0.3,0.6,0.7]"
   ]
  },
  {
   "cell_type": "code",
   "execution_count": 156,
   "metadata": {},
   "outputs": [
    {
     "data": {
      "text/plain": [
       "[1.2213333333333334, 1.3495, 1.816, 2.0021666666666667]"
      ]
     },
     "execution_count": 156,
     "metadata": {},
     "output_type": "execute_result"
    }
   ],
   "source": [
    "a = list(map(Taylor_exp_approx, list_1))\n",
    "a"
   ]
  },
  {
   "cell_type": "markdown",
   "metadata": {},
   "source": [
    "### itertools"
   ]
  },
  {
   "cell_type": "code",
   "execution_count": 157,
   "metadata": {},
   "outputs": [],
   "source": [
    "import itertools as it"
   ]
  },
  {
   "cell_type": "code",
   "execution_count": 186,
   "metadata": {},
   "outputs": [
    {
     "name": "stdout",
     "output_type": "stream",
     "text": [
      "[(4, 45, 87), (4, 45, 123), (4, 45, 167), (4, 45, 234), (4, 87, 123), (4, 87, 167), (4, 87, 234), (4, 123, 167), (4, 123, 234), (4, 167, 234), (45, 87, 123), (45, 87, 167), (45, 87, 234), (45, 123, 167), (45, 123, 234), (45, 167, 234), (87, 123, 167), (87, 123, 234), (87, 167, 234), (123, 167, 234)]\n",
      "20\n"
     ]
    }
   ],
   "source": [
    "a = [4,45,87,123,167,234]\n",
    "comb_list = list(it.combinations(a,3))\n",
    "print(comb_list)\n",
    "print(len(comb_list))"
   ]
  },
  {
   "cell_type": "code",
   "execution_count": 191,
   "metadata": {},
   "outputs": [
    {
     "name": "stdout",
     "output_type": "stream",
     "text": [
      "[(1, 1, 1), (1, 1, 3), (1, 1, 5), (1, 1, 7), (1, 1, 9), (1, 1, 11), (1, 3, 3), (1, 3, 5), (1, 3, 7), (1, 3, 9), (1, 3, 11), (1, 5, 5), (1, 5, 7), (1, 5, 9), (1, 5, 11), (1, 7, 7), (1, 7, 9), (1, 7, 11), (1, 9, 9), (1, 9, 11), (1, 11, 11), (3, 3, 3), (3, 3, 5), (3, 3, 7), (3, 3, 9), (3, 3, 11), (3, 5, 5), (3, 5, 7), (3, 5, 9), (3, 5, 11), (3, 7, 7), (3, 7, 9), (3, 7, 11), (3, 9, 9), (3, 9, 11), (3, 11, 11), (5, 5, 5), (5, 5, 7), (5, 5, 9), (5, 5, 11), (5, 7, 7), (5, 7, 9), (5, 7, 11), (5, 9, 9), (5, 9, 11), (5, 11, 11), (7, 7, 7), (7, 7, 9), (7, 7, 11), (7, 9, 9), (7, 9, 11), (7, 11, 11), (9, 9, 9), (9, 9, 11), (9, 11, 11), (11, 11, 11)]\n",
      "56\n"
     ]
    }
   ],
   "source": [
    "comb_list = list(it.combinations_with_replacement(a,3))\n",
    "print(comb_list)\n",
    "print(len(comb_list))"
   ]
  },
  {
   "cell_type": "code",
   "execution_count": 192,
   "metadata": {},
   "outputs": [
    {
     "data": {
      "text/plain": [
       "<itertools.combinations_with_replacement at 0x104152188>"
      ]
     },
     "execution_count": 192,
     "metadata": {},
     "output_type": "execute_result"
    }
   ],
   "source": [
    "it.combinations_with_replacement(a,3)"
   ]
  },
  {
   "cell_type": "code",
   "execution_count": 188,
   "metadata": {},
   "outputs": [
    {
     "name": "stdout",
     "output_type": "stream",
     "text": [
      "[('a', 'b', 'c'), ('a', 'c', 'b'), ('b', 'a', 'c'), ('b', 'c', 'a'), ('c', 'a', 'b'), ('c', 'b', 'a')]\n"
     ]
    }
   ],
   "source": [
    "a = ['a','b','c']\n",
    "comb_list = list(it.permutations(a))\n",
    "print(comb_list)"
   ]
  },
  {
   "cell_type": "code",
   "execution_count": 189,
   "metadata": {},
   "outputs": [
    {
     "data": {
      "text/plain": [
       "[20, 20, 20, 20]"
      ]
     },
     "execution_count": 189,
     "metadata": {},
     "output_type": "execute_result"
    }
   ],
   "source": [
    "list(it.repeat(20,4))"
   ]
  },
  {
   "cell_type": "code",
   "execution_count": 190,
   "metadata": {},
   "outputs": [
    {
     "data": {
      "text/plain": [
       "[1, 4, 9, 16, 25, 36]"
      ]
     },
     "execution_count": 190,
     "metadata": {},
     "output_type": "execute_result"
    }
   ],
   "source": [
    "# Cumulative sum\n",
    "a = [1,3,5,7,9,11]\n",
    "list(it.accumulate(a))"
   ]
  },
  {
   "cell_type": "markdown",
   "metadata": {},
   "source": [
    "Many more functions can be found here \n",
    "https://docs.python.org/3/library/itertools.html#itertools.tee"
   ]
  },
  {
   "cell_type": "markdown",
   "metadata": {},
   "source": [
    "\n",
    "\n",
    "\n",
    "\n",
    "\n"
   ]
  },
  {
   "cell_type": "raw",
   "metadata": {},
   "source": [
    "## __name__ == \"__main__\""
   ]
  },
  {
   "cell_type": "raw",
   "metadata": {},
   "source": [
    "In the future you (or you could have seen it already) might see this line of code in python scripts \n",
    "__name__ == \"__main__\". __name__ is a special variable in python and it corresponds to the name of the current\n",
    "module. If the script is run directly __name__ will be set to __main__ otherwise __name__ will be set to name of the \n",
    "module."
   ]
  },
  {
   "cell_type": "markdown",
   "metadata": {},
   "source": [
    "Demo with some files"
   ]
  },
  {
   "cell_type": "raw",
   "metadata": {},
   "source": [
    "What is the need of setting __name__ == \"__main__\"?\n",
    "Distinguish if the script is being run as a main program or a module "
   ]
  },
  {
   "cell_type": "code",
   "execution_count": null,
   "metadata": {},
   "outputs": [],
   "source": [
    "But why?\n",
    "It is especially useful when you want to add testing code to your script. Test can be run only when the script\n",
    "is being run as the main program and no need to conduct testing when you run the script as a module."
   ]
  },
  {
   "cell_type": "raw",
   "metadata": {},
   "source": []
  },
  {
   "cell_type": "markdown",
   "metadata": {},
   "source": [
    "https://i.stack.imgur.com/Eql0u.png"
   ]
  },
  {
   "cell_type": "markdown",
   "metadata": {},
   "source": [
    "## Exercises"
   ]
  },
  {
   "cell_type": "markdown",
   "metadata": {},
   "source": [
    "1. Write a python program to print the following configuration"
   ]
  },
  {
   "cell_type": "code",
   "execution_count": null,
   "metadata": {},
   "outputs": [],
   "source": [
    "* \n",
    "* * \n",
    "* * * \n",
    "* * * * \n",
    "* * * * * \n",
    "* * * * \n",
    "* * * \n",
    "* * \n",
    "*"
   ]
  },
  {
   "cell_type": "code",
   "execution_count": 197,
   "metadata": {},
   "outputs": [
    {
     "name": "stdout",
     "output_type": "stream",
     "text": [
      "*\n",
      "**\n",
      "***\n",
      "****\n",
      "*****\n",
      "****\n",
      "***\n",
      "**\n",
      "*\n"
     ]
    }
   ],
   "source": [
    "for i in range(1,6):\n",
    "    print('*'*i)\n",
    "for i in range(4,0,-1):\n",
    "    print('*'*i)\n",
    "\n"
   ]
  },
  {
   "cell_type": "code",
   "execution_count": 198,
   "metadata": {},
   "outputs": [
    {
     "name": "stdout",
     "output_type": "stream",
     "text": [
      "*\n",
      "**\n",
      "***\n",
      "****\n",
      "*****\n",
      "****\n",
      "***\n",
      "**\n",
      "*\n"
     ]
    }
   ],
   "source": [
    "for i in range(1,10):\n",
    "    if i <= 5:\n",
    "        print(i * '*')\n",
    "        \n",
    "    else:\n",
    "        print((10-i)*'*')\n",
    "        "
   ]
  },
  {
   "cell_type": "code",
   "execution_count": 202,
   "metadata": {},
   "outputs": [],
   "source": [
    "def print_star(n):\n",
    "    for i in range(1,2*n):\n",
    "        if i <= n:\n",
    "            print(i * '*')\n",
    "        \n",
    "        else:\n",
    "            print((2*n-i)*'*')\n",
    "        \n",
    "    "
   ]
  },
  {
   "cell_type": "code",
   "execution_count": 206,
   "metadata": {},
   "outputs": [],
   "source": [
    "print_star(0)"
   ]
  },
  {
   "cell_type": "markdown",
   "metadata": {},
   "source": [
    "2. Find the sum of all square numbers from 100 through 20000, inclusively."
   ]
  },
  {
   "cell_type": "code",
   "execution_count": 207,
   "metadata": {},
   "outputs": [],
   "source": [
    "## Check if a number is square\n",
    "square_sum = 0\n",
    "for i in range(100, 20001):\n",
    "    sqrt_i = i**0.5\n",
    "    if int(sqrt_i) == sqrt_i:\n",
    "        square_sum += i\n",
    "    \n"
   ]
  },
  {
   "cell_type": "code",
   "execution_count": 208,
   "metadata": {},
   "outputs": [
    {
     "data": {
      "text/plain": [
       "944086"
      ]
     },
     "execution_count": 208,
     "metadata": {},
     "output_type": "execute_result"
    }
   ],
   "source": [
    "square_sum"
   ]
  },
  {
   "cell_type": "code",
   "execution_count": 209,
   "metadata": {},
   "outputs": [
    {
     "name": "stdout",
     "output_type": "stream",
     "text": [
      "944086\n"
     ]
    }
   ],
   "source": [
    "# Find \n",
    "lowerbound = math.ceil(100**0.5)\n",
    "upperbound = math.ceil(20000**0.5)\n",
    "\n",
    "sq_list = list(range(lowerbound, upperbound))\n",
    "Square_sum = sum([i**2 for i in sq_list])\n",
    "print(Square_sum)\n",
    "\n"
   ]
  },
  {
   "cell_type": "markdown",
   "metadata": {},
   "source": [
    "3. Write a function to reverse a string"
   ]
  },
  {
   "cell_type": "code",
   "execution_count": null,
   "metadata": {},
   "outputs": [],
   "source": [
    "def revString(string):\n",
    "    pass"
   ]
  },
  {
   "cell_type": "code",
   "execution_count": 178,
   "metadata": {},
   "outputs": [],
   "source": [
    "len_string = len(string)\n",
    "rev_string = ''\n",
    "for each chr in string:\n",
    "    add chr to the beginnign of rev_string\n",
    "    "
   ]
  },
  {
   "cell_type": "code",
   "execution_count": 210,
   "metadata": {},
   "outputs": [],
   "source": [
    "def revString(string):\n",
    "    N = len(string)\n",
    "    new_str=''\n",
    "    for i in range(N):\n",
    "        new_str += string[N-1-i]\n",
    "    return new_str"
   ]
  },
  {
   "cell_type": "code",
   "execution_count": 211,
   "metadata": {},
   "outputs": [
    {
     "data": {
      "text/plain": [
       "'yviD'"
      ]
     },
     "execution_count": 211,
     "metadata": {},
     "output_type": "execute_result"
    }
   ],
   "source": [
    "revString('Divy')"
   ]
  },
  {
   "cell_type": "markdown",
   "metadata": {},
   "source": [
    "4.Passwords usually have certain requirements. Write a function to check if a given password satisfies \n",
    "the following requirements.\n",
    "\n",
    "At least 1 letter between [a-z] and 1 letter between [A-Z].\n",
    "\n",
    "At least 1 number between [0-9].\n",
    "\n",
    "At least 1 character from [$#@]. \n",
    "                           \n",
    "Minimum length 6 characters. \n",
    "                           \n",
    "Maximum length 16 characters. "
   ]
  },
  {
   "cell_type": "code",
   "execution_count": null,
   "metadata": {},
   "outputs": [],
   "source": [
    "def PasswordCheck(string):\n",
    "    char_list = list(string)\n",
    "    \n",
    "    PW_len =len(char_list)\n",
    "    \n",
    "    if PW_len < 6:\n",
    "        print('Password is too small, has less than 6 characters')\n",
    "    elif PW_len > 16:\n",
    "        print('Password is too long, has more than 16 characters')\n",
    "    else:\n",
    "        character_dict = {'capital_letters':0, 'lc_letters':0, 'digits':0, 'spec_char':0}\n",
    "        spec_char_list = ['$','#','@']\n",
    "\n",
    "        for i in char_list:\n",
    "            if str.isdigit(i):\n",
    "                character_dict['digits'] += 1\n",
    "            elif str.isalpha(i):\n",
    "                if str.islower(i):\n",
    "                    character_dict['lc_letters'] += 1\n",
    "                else:\n",
    "                    character_dict['capital_letters'] += 1\n",
    "            elif i in spec_char_list:\n",
    "                character_dict['spec_char'] += 1\n",
    "\n",
    "        if character_dict['capital_letters'] > 0 and character_dict['lc_letters'] and \tcharacter_dict['digits'] >0 and character_dict['spec_char'] > 0:\n",
    "            print('Password looks great')\n",
    "        else:\n",
    "            print('Password should have at least 1 capital letter')\n",
    "            print('Password should have at least 1 lower case letter')\n",
    "            print('Password should have at least 1 digit')\n",
    "            print('Password should have at least 1 special character $ # or @')\n",
    "    \n"
   ]
  },
  {
   "cell_type": "code",
   "execution_count": 96,
   "metadata": {},
   "outputs": [],
   "source": []
  },
  {
   "cell_type": "code",
   "execution_count": 101,
   "metadata": {},
   "outputs": [],
   "source": [
    "#PasswordCheck('sa')\n",
    "#a = 'safsdavaAsdfsf122@'"
   ]
  },
  {
   "cell_type": "code",
   "execution_count": null,
   "metadata": {},
   "outputs": [],
   "source": []
  },
  {
   "cell_type": "code",
   "execution_count": null,
   "metadata": {},
   "outputs": [],
   "source": []
  },
  {
   "cell_type": "markdown",
   "metadata": {},
   "source": [
    "5. If you have 4 \\$20 bills, 5 \\$10 bills, 2 \\$5 bills and 5 \\$1 bills. In how many different combinations can you pay \n",
    "for something that is \\$100?"
   ]
  },
  {
   "cell_type": "code",
   "execution_count": null,
   "metadata": {},
   "outputs": [],
   "source": [
    "cash_bills = [20,20,20,20,10,10,10,10,10,5,5,1,1,1,1,1]\n",
    "totalSum = []\n",
    "for n in range(1, len(cash_bills) + 1):\n",
    "    for combination in it.combinations(cash_bills, n):\n",
    "        if sum(combination) == 100:\n",
    "            totalSum.append(combination)\n",
    "len(totalSum)"
   ]
  },
  {
   "cell_type": "markdown",
   "metadata": {},
   "source": [
    "6. If you have unlimited amount of \\$20, \\$10 \\$5 and \\$1 bills, in how many different combinations can you pay for something that is \\$100?"
   ]
  },
  {
   "cell_type": "code",
   "execution_count": null,
   "metadata": {},
   "outputs": [],
   "source": [
    "cash_bills = [20,10,5,1]\n",
    "totalSum = []\n",
    "for n in range(1, 101):\n",
    "    for combination in it.combinations_with_replacement(cash_bills, n):\n",
    "        if sum(combination) == 100:\n",
    "            totalSum.append(combination)\n",
    "            \n",
    "len(totalSum) "
   ]
  }
 ],
 "metadata": {
  "kernelspec": {
   "display_name": "Python 3",
   "language": "python",
   "name": "python3"
  },
  "language_info": {
   "codemirror_mode": {
    "name": "ipython",
    "version": 3
   },
   "file_extension": ".py",
   "mimetype": "text/x-python",
   "name": "python",
   "nbconvert_exporter": "python",
   "pygments_lexer": "ipython3",
   "version": "3.6.5"
  }
 },
 "nbformat": 4,
 "nbformat_minor": 2
}
