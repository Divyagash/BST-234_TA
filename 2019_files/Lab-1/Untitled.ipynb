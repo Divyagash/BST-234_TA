{
 "cells": [
  {
   "cell_type": "code",
   "execution_count": 156,
   "metadata": {},
   "outputs": [],
   "source": [
    "import random\n",
    "\n",
    "def shaker_sort(List):\n",
    "    for i in range(len(List)-1, 0, -1):\n",
    "        swap = False\n",
    "        for j in range(i, 0, -1):\n",
    "            if List[j]<List[j-1]:\n",
    "                List[j], List[j-1] = List[j-1], List[j]\n",
    "                swap = True\n",
    "\n",
    "        for j in range(i):\n",
    "            if List[j] > List[j+1]:\n",
    "                List[j], List[j+1] = List[j+1], List[j]\n",
    "                swap = True\n",
    "\n",
    "        if not swap:\n",
    "            return List"
   ]
  },
  {
   "cell_type": "code",
   "execution_count": 157,
   "metadata": {},
   "outputs": [
    {
     "data": {
      "text/plain": [
       "[23, 67, 78, 346, 456, 456, 572, 896]"
      ]
     },
     "execution_count": 157,
     "metadata": {},
     "output_type": "execute_result"
    }
   ],
   "source": [
    "L = [67,456,78,896,456,23,346,572]\n",
    "shaker_sort(L)"
   ]
  },
  {
   "cell_type": "code",
   "execution_count": 158,
   "metadata": {},
   "outputs": [
    {
     "data": {
      "text/plain": [
       "[4, 5, 34, 34, 34, 42, 63, 345, 567, 654, 5768, 65452, 87975]"
      ]
     },
     "execution_count": 158,
     "metadata": {},
     "output_type": "execute_result"
    }
   ],
   "source": [
    "L = [567,34,345,5,4,63,654,5768,87975,42,34,34,65452]\n",
    "shaker_sort(L)"
   ]
  },
  {
   "cell_type": "code",
   "execution_count": 159,
   "metadata": {},
   "outputs": [],
   "source": [
    "def selection_sort(List):\n",
    "    for i in range(len(List)-1, 0, -1):\n",
    "        max_ix = 0\n",
    "        for j in range(1, i+1):\n",
    "            if List[j] > List[max_ix]:\n",
    "                max_ix = j\n",
    "\n",
    "        temp = List[i]\n",
    "        List[i] = List[max_ix]\n",
    "        List[max_ix] = temp\n",
    "    return List"
   ]
  },
  {
   "cell_type": "code",
   "execution_count": 160,
   "metadata": {},
   "outputs": [
    {
     "data": {
      "text/plain": [
       "[4, 45, 57, 64, 76, 345, 675, 789, 912, 7656]"
      ]
     },
     "execution_count": 160,
     "metadata": {},
     "output_type": "execute_result"
    }
   ],
   "source": [
    "L = [57,76,45,64,7656,912,4,675,345,789]\n",
    "selection_sort(L)"
   ]
  },
  {
   "cell_type": "code",
   "execution_count": 161,
   "metadata": {},
   "outputs": [],
   "source": [
    "def is_prime(n): # Miller-Rabin algorithm\n",
    "    if n != int(n):\n",
    "        return False\n",
    "    n = int(n)\n",
    "    if n == 0 or n == 1 or n == 4 or n == 6 or n == 8 or n == 9:\n",
    "        return False\n",
    "\n",
    "    if n == 2 or n == 3 or n == 5 or n == 7:\n",
    "        return True\n",
    "    # write n-1 as 2^s * d\n",
    "    s = 0\n",
    "    d = n-1\n",
    "    while d % 2 == 0: # check if d is odd\n",
    "        d >>= 1\n",
    "        s += 1\n",
    "    assert(2**s * d == n-1)\n",
    "\n",
    "    def trial_composite(a):\n",
    "        if pow(a, d, n) == 1:\n",
    "            return False\n",
    "        for i in range(s):\n",
    "            if pow(a, 2**i * d, n) == n-1:\n",
    "                return False\n",
    "        return True\n",
    "\n",
    "    for i in range(8): # number of trials\n",
    "        a = random.randrange(2, n)\n",
    "        if trial_composite(a):\n",
    "            return False\n",
    "\n",
    "    return True\n"
   ]
  },
  {
   "cell_type": "code",
   "execution_count": 168,
   "metadata": {},
   "outputs": [
    {
     "data": {
      "text/plain": [
       "False"
      ]
     },
     "execution_count": 168,
     "metadata": {},
     "output_type": "execute_result"
    }
   ],
   "source": [
    "is_prime(7023)"
   ]
  },
  {
   "cell_type": "code",
   "execution_count": 155,
   "metadata": {},
   "outputs": [
    {
     "data": {
      "text/plain": [
       "True"
      ]
     },
     "execution_count": 155,
     "metadata": {},
     "output_type": "execute_result"
    }
   ],
   "source": [
    "isprime(47)"
   ]
  },
  {
   "cell_type": "code",
   "execution_count": null,
   "metadata": {},
   "outputs": [],
   "source": []
  },
  {
   "cell_type": "code",
   "execution_count": null,
   "metadata": {},
   "outputs": [],
   "source": []
  },
  {
   "cell_type": "code",
   "execution_count": null,
   "metadata": {},
   "outputs": [],
   "source": []
  },
  {
   "cell_type": "code",
   "execution_count": null,
   "metadata": {},
   "outputs": [],
   "source": []
  },
  {
   "cell_type": "code",
   "execution_count": null,
   "metadata": {},
   "outputs": [],
   "source": []
  },
  {
   "cell_type": "code",
   "execution_count": null,
   "metadata": {},
   "outputs": [],
   "source": []
  },
  {
   "cell_type": "code",
   "execution_count": null,
   "metadata": {},
   "outputs": [],
   "source": []
  },
  {
   "cell_type": "code",
   "execution_count": null,
   "metadata": {},
   "outputs": [],
   "source": []
  },
  {
   "cell_type": "code",
   "execution_count": null,
   "metadata": {},
   "outputs": [],
   "source": []
  }
 ],
 "metadata": {
  "kernelspec": {
   "display_name": "Python 3",
   "language": "python",
   "name": "python3"
  },
  "language_info": {
   "codemirror_mode": {
    "name": "ipython",
    "version": 3
   },
   "file_extension": ".py",
   "mimetype": "text/x-python",
   "name": "python",
   "nbconvert_exporter": "python",
   "pygments_lexer": "ipython3",
   "version": "3.6.5"
  }
 },
 "nbformat": 4,
 "nbformat_minor": 2
}
