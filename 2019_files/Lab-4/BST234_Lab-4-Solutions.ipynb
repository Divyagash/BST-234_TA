{
 "cells": [
  {
   "cell_type": "markdown",
   "metadata": {},
   "source": [
    "# Cash Exchange"
   ]
  },
  {
   "cell_type": "raw",
   "metadata": {},
   "source": [
    "In how many different combinations can you pay for something that is $100? \n",
    "What is the most optimal and least optimal way of breaking down $100\n",
    "(Assume that you only have $1, $10 and $20 bill)"
   ]
  },
  {
   "cell_type": "code",
   "execution_count": 1,
   "metadata": {},
   "outputs": [],
   "source": [
    "import itertools as it"
   ]
  },
  {
   "cell_type": "code",
   "execution_count": 2,
   "metadata": {},
   "outputs": [
    {
     "data": {
      "text/plain": [
       "286"
      ]
     },
     "execution_count": 2,
     "metadata": {},
     "output_type": "execute_result"
    }
   ],
   "source": [
    "cash_bills = [20,10,5,1]\n",
    "totalSum = []\n",
    "for n in range(1, 101):\n",
    "    for combination in it.combinations_with_replacement(cash_bills, n):\n",
    "        if sum(combination) == 100:\n",
    "            totalSum.append(combination)\n",
    "            \n",
    "len(totalSum) "
   ]
  },
  {
   "cell_type": "code",
   "execution_count": 8,
   "metadata": {},
   "outputs": [],
   "source": [
    "nBills = list(map(len, totalSum))"
   ]
  },
  {
   "cell_type": "code",
   "execution_count": 9,
   "metadata": {},
   "outputs": [
    {
     "data": {
      "text/plain": [
       "5"
      ]
     },
     "execution_count": 9,
     "metadata": {},
     "output_type": "execute_result"
    }
   ],
   "source": [
    "min(nBills)"
   ]
  },
  {
   "cell_type": "code",
   "execution_count": 10,
   "metadata": {},
   "outputs": [
    {
     "data": {
      "text/plain": [
       "100"
      ]
     },
     "execution_count": 10,
     "metadata": {},
     "output_type": "execute_result"
    }
   ],
   "source": [
    "max(nBills)"
   ]
  },
  {
   "cell_type": "markdown",
   "metadata": {},
   "source": [
    "# Merge sort"
   ]
  },
  {
   "cell_type": "code",
   "execution_count": 29,
   "metadata": {},
   "outputs": [],
   "source": [
    "def mergeSort(List):\n",
    "    \n",
    "    N = len(List)\n",
    "    \n",
    "    if N==1:\n",
    "        return(List)\n",
    "    else:\n",
    "        midPoint = N//2\n",
    "        # Split the list into two halves\n",
    "        rightSubList = List[:midPoint]\n",
    "        leftSubList = List[midPoint:]\n",
    "        \n",
    "        # Perform mergesort recursively\n",
    "        mergeSort(rightSubList)\n",
    "        mergeSort(leftSubList)\n",
    "    \n",
    "        i=0 # index for the left sublist\n",
    "        j=0 # index for the right sublist\n",
    "        k=0# index for the list\n",
    "        \n",
    "        # Compare right and left sublist and merge them together\n",
    "        while i < len(leftSubList) and j < len(rightSubList):\n",
    "            if leftSubList[i] < rightSubList[j]:\n",
    "                List[k]=leftSubList[i]\n",
    "                i=i+1\n",
    "            else:\n",
    "                List[k]=rightSubList[j]\n",
    "                j=j+1\n",
    "            k=k+1\n",
    "\n",
    "        while i < len(leftSubList):\n",
    "            List[k]=leftSubList[i]\n",
    "            i=i+1\n",
    "            k=k+1\n",
    "\n",
    "        while j < len(rightSubList):\n",
    "            List[k]=rightSubList[j]\n",
    "            j=j+1\n",
    "            k=k+1\n",
    "    return(List)"
   ]
  },
  {
   "cell_type": "code",
   "execution_count": 77,
   "metadata": {},
   "outputs": [
    {
     "data": {
      "text/plain": [
       "[5, 6, 45, 67, 89, 234, 456]"
      ]
     },
     "execution_count": 77,
     "metadata": {},
     "output_type": "execute_result"
    }
   ],
   "source": [
    "mergeSort([234,5,6,45,456,67,89])"
   ]
  },
  {
   "cell_type": "markdown",
   "metadata": {},
   "source": [
    "# Quick- Select"
   ]
  },
  {
   "cell_type": "code",
   "execution_count": null,
   "metadata": {},
   "outputs": [],
   "source": [
    "Given an array A and an integer k which is less than length of A. Find the kth element of A"
   ]
  },
  {
   "cell_type": "code",
   "execution_count": 14,
   "metadata": {},
   "outputs": [],
   "source": [
    "import random\n",
    "import numpy as np"
   ]
  },
  {
   "cell_type": "code",
   "execution_count": 67,
   "metadata": {},
   "outputs": [],
   "source": [
    "def quickSelect(A, k):\n",
    "    N = len(A)\n",
    "    if k <= N:\n",
    "        p = A[random.randint(0, (N-1))]\n",
    "        #print(p)\n",
    "        L = A[A < p]\n",
    "        #print(L)\n",
    "        M = A[A == p]\n",
    "        #print(M)\n",
    "        R = A[A > p]\n",
    "        #print(R)\n",
    "    \n",
    "        if (k <= len(L)):\n",
    "            return(quickSelect(L, k))\n",
    "        elif (k > len(L) + len(M)):\n",
    "            return(quickSelect(R, k - (len(L) + len(M))))\n",
    "        else:\n",
    "            return(p)\n",
    "    else:\n",
    "        print('k should be less than or equal to the length of List')"
   ]
  },
  {
   "cell_type": "code",
   "execution_count": 68,
   "metadata": {},
   "outputs": [],
   "source": [
    "A = np.array([456,56,6,67,43,5])"
   ]
  },
  {
   "cell_type": "code",
   "execution_count": 76,
   "metadata": {},
   "outputs": [
    {
     "data": {
      "text/plain": [
       "43"
      ]
     },
     "execution_count": 76,
     "metadata": {},
     "output_type": "execute_result"
    }
   ],
   "source": [
    "quickSelect(A, 3)"
   ]
  },
  {
   "cell_type": "code",
   "execution_count": null,
   "metadata": {},
   "outputs": [],
   "source": []
  },
  {
   "cell_type": "code",
   "execution_count": null,
   "metadata": {},
   "outputs": [],
   "source": []
  },
  {
   "cell_type": "code",
   "execution_count": null,
   "metadata": {},
   "outputs": [],
   "source": []
  }
 ],
 "metadata": {
  "kernelspec": {
   "display_name": "Python 3",
   "language": "python",
   "name": "python3"
  },
  "language_info": {
   "codemirror_mode": {
    "name": "ipython",
    "version": 3
   },
   "file_extension": ".py",
   "mimetype": "text/x-python",
   "name": "python",
   "nbconvert_exporter": "python",
   "pygments_lexer": "ipython3",
   "version": "3.6.5"
  }
 },
 "nbformat": 4,
 "nbformat_minor": 2
}
