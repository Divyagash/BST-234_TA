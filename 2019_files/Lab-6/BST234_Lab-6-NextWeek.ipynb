{
 "cells": [
  {
   "cell_type": "markdown",
   "metadata": {},
   "source": [
    "# Gaussian Elimintation"
   ]
  },
  {
   "cell_type": "markdown",
   "metadata": {},
   "source": [
    "### Assuming matrices are in the traingular form"
   ]
  },
  {
   "cell_type": "code",
   "execution_count": 5,
   "metadata": {},
   "outputs": [],
   "source": [
    "import numpy as np"
   ]
  },
  {
   "cell_type": "code",
   "execution_count": 4,
   "metadata": {},
   "outputs": [],
   "source": [
    "def gaussElem_lower(A, b):\n",
    "    \"\"\"\n",
    "    Given lower triangular matrix, solves the system of equations\n",
    "    \"\"\"\n",
    "    \n",
    "    n = len(b)\n",
    "    x = [None]* n\n",
    "    for j in range(n):\n",
    "        if A[j,j] == 0:\n",
    "            print('Matrix provided is singular')\n",
    "            break\n",
    "        x[j] = b[j]/A[j,j]\n",
    "        for i in range(j+1, n):\n",
    "            b[i] = b[i] - A[i,j]*x[j]\n",
    "    return(x)\n",
    "            \n",
    "    \n",
    "    \n",
    "    "
   ]
  },
  {
   "cell_type": "code",
   "execution_count": 5,
   "metadata": {},
   "outputs": [],
   "source": [
    "A = np.array([[4,0,0],[1,1,0],[-2,4,2]])\n",
    "c = [8,4,2]"
   ]
  },
  {
   "cell_type": "code",
   "execution_count": 6,
   "metadata": {},
   "outputs": [
    {
     "data": {
      "text/plain": [
       "[2.0, 2.0, -1.0]"
      ]
     },
     "execution_count": 6,
     "metadata": {},
     "output_type": "execute_result"
    }
   ],
   "source": [
    "gaussElem_lower(A, c)"
   ]
  },
  {
   "cell_type": "code",
   "execution_count": 7,
   "metadata": {},
   "outputs": [
    {
     "name": "stdout",
     "output_type": "stream",
     "text": [
      "Matrix provided is singular\n"
     ]
    },
    {
     "data": {
      "text/plain": [
       "[2.0, None, None]"
      ]
     },
     "execution_count": 7,
     "metadata": {},
     "output_type": "execute_result"
    }
   ],
   "source": [
    "A = np.array([[4,0,0],[1,0,0],[-2,4,2]])\n",
    "c = [8,4,2]\n",
    "gaussElem_lower(A, c)"
   ]
  },
  {
   "cell_type": "code",
   "execution_count": 25,
   "metadata": {},
   "outputs": [
    {
     "data": {
      "text/plain": [
       "3"
      ]
     },
     "execution_count": 25,
     "metadata": {},
     "output_type": "execute_result"
    }
   ],
   "source": [
    "A.shape[1]"
   ]
  },
  {
   "cell_type": "code",
   "execution_count": null,
   "metadata": {},
   "outputs": [],
   "source": []
  },
  {
   "cell_type": "code",
   "execution_count": 8,
   "metadata": {},
   "outputs": [],
   "source": [
    "class SystemSolver():\n",
    "    def __init__(self,data = []):\n",
    "        # constructor - empty array\n",
    "        self.data = data\n",
    "\n",
    "    \n",
    "    def LUFactorization(self, A):\n",
    "        nrows = A.shape[0]\n",
    "        ncols = A.shape[1]\n",
    "        n = nrows\n",
    "        if nrows == ncols:\n",
    "            L = np.identity(n)\n",
    "            U = A\n",
    "            for i in range(n-1):\n",
    "                for j in range(i+1,n):\n",
    "                    L[j, i] = U[j,i]/float(U[i,i])\n",
    "                    U[j,i:n] = U[j,i:n] - (float(L[j,i]) * U[i,i:n])\n",
    "        return(L,U)\n",
    "            \n",
    "        \n",
    "    def systemSolve(self, A, b):\n",
    "        L,U = self.LUFactorization(A)\n",
    "        \n",
    "        # Forward substitution with L\n",
    "        n = len(b)\n",
    "        c = [None]* n\n",
    "        for j in range(n):\n",
    "            c[j] = b[j]/float(L[j,j])\n",
    "            #print(c[j])\n",
    "            for i in range(j+1, n):\n",
    "                b[i] = b[i] - L[i,j]*c[j]\n",
    "\n",
    "                \n",
    "        # Backward substitution with U \n",
    "        x = [None]* n\n",
    "        for j in range(n-1,-1,-1):\n",
    "            x[j] = c[j]/float(U[j,j])\n",
    "            for i in range(j):\n",
    "                c[i] = c[i] - U[i,j]*x[j]\n",
    "                \n",
    "        return(x)\n",
    "                \n",
    "            \n",
    "            \n",
    "        \n",
    "        \n"
   ]
  },
  {
   "cell_type": "code",
   "execution_count": 9,
   "metadata": {},
   "outputs": [
    {
     "data": {
      "text/plain": [
       "[1.0, 1.0, -2.0]"
      ]
     },
     "execution_count": 9,
     "metadata": {},
     "output_type": "execute_result"
    }
   ],
   "source": [
    "SS = SystemSolver()\n",
    "A = np.array([[7,6,10],[3,8,7],[3,5,5]])\n",
    "A = A.astype(float)\n",
    "vec = [-7,-3,-2]\n",
    "SS.systemSolve(A,vec)"
   ]
  },
  {
   "cell_type": "code",
   "execution_count": 10,
   "metadata": {},
   "outputs": [],
   "source": [
    "L,U = SS.LUFactorization(A)"
   ]
  },
  {
   "cell_type": "code",
   "execution_count": 11,
   "metadata": {},
   "outputs": [
    {
     "data": {
      "text/plain": [
       "[1.0, 1.0, -2.0]"
      ]
     },
     "execution_count": 11,
     "metadata": {},
     "output_type": "execute_result"
    }
   ],
   "source": [
    "SS.systemSolve(U,[-7.0, 0.0, 1.0])"
   ]
  },
  {
   "cell_type": "code",
   "execution_count": 12,
   "metadata": {},
   "outputs": [
    {
     "data": {
      "text/plain": [
       "(array([[1.        , 0.        , 0.        ],\n",
       "        [0.42857143, 1.        , 0.        ],\n",
       "        [0.42857143, 0.44736842, 1.        ]]),\n",
       " array([[ 7.        ,  6.        , 10.        ],\n",
       "        [ 0.        ,  5.42857143,  2.71428571],\n",
       "        [ 0.        ,  0.        , -0.5       ]]))"
      ]
     },
     "execution_count": 12,
     "metadata": {},
     "output_type": "execute_result"
    }
   ],
   "source": [
    "A = np.array([[7,6,10],[3,8,7],[3,5,5]])\n",
    "vec = [-7,-3,-2]\n",
    "A = A.astype(float)\n",
    "SS.LUFactorization(A)"
   ]
  },
  {
   "cell_type": "code",
   "execution_count": 13,
   "metadata": {},
   "outputs": [
    {
     "data": {
      "text/plain": [
       "[-4.526315789473684, -2.5526315789473686, 4.0]"
      ]
     },
     "execution_count": 13,
     "metadata": {},
     "output_type": "execute_result"
    }
   ],
   "source": [
    "SS.systemSolve(A,vec)"
   ]
  },
  {
   "cell_type": "code",
   "execution_count": 14,
   "metadata": {},
   "outputs": [
    {
     "data": {
      "text/plain": [
       "[1.0, -1.0, -0.0, 2.0]"
      ]
     },
     "execution_count": 14,
     "metadata": {},
     "output_type": "execute_result"
    }
   ],
   "source": [
    "SS = SystemSolver()\n",
    "A = np.array([[2,1,-2,3],[3,0,4,-2],[2,-1,1,5],[5,2,3,1]])\n",
    "A = A.astype(float)\n",
    "vec = [7,-1,13,5]\n",
    "SS.systemSolve(A,vec)"
   ]
  },
  {
   "cell_type": "code",
   "execution_count": null,
   "metadata": {},
   "outputs": [],
   "source": []
  },
  {
   "cell_type": "markdown",
   "metadata": {},
   "source": [
    "# Householder transformation"
   ]
  },
  {
   "cell_type": "code",
   "execution_count": 35,
   "metadata": {},
   "outputs": [],
   "source": [
    "import numpy.linalg as nla"
   ]
  },
  {
   "cell_type": "code",
   "execution_count": 36,
   "metadata": {},
   "outputs": [],
   "source": [
    "def Householder(A):\n",
    "    m,n = A.shape\n",
    "    R = A\n",
    "    Q = np.eye(m)\n",
    "\n",
    "    for j in range(n):\n",
    "        x = R[j:,j]\n",
    "        e_1 = np.zeros(len(x))\n",
    "        e_1[0] = 1\n",
    "        v_k = np.sign(x[0])*nla.norm(x)*e_1+x\n",
    "        v_k = v_k/nla.norm(v_k) # normalize the reflection vector\n",
    "\n",
    "        # Form of Householder transformation is H = I - 2(vv^t)/(v^tv)\n",
    "        # R[j:, :]H Will eliminate all subdiagonal elements\n",
    "        # Hence R[j:, :]H = R[j:, :] - R[j:, :]*2(vv^t)/(v^tv)\n",
    "        R[j:, :] = R[j:, :] - 2* np.outer(v_k, v_k).dot(R[j:, :])\n",
    "        Q[:, j:] = Q[:, j:] - 2 * Q[:, j:].dot(np.outer(v_k, v_k))\n",
    "    \n",
    "    return(Q,R)\n",
    "    "
   ]
  },
  {
   "cell_type": "code",
   "execution_count": 37,
   "metadata": {},
   "outputs": [
    {
     "name": "stdout",
     "output_type": "stream",
     "text": [
      "37.75729255859722\n",
      "[[-0.29986176 -0.45548197  0.72189882  0.4260061 ]\n",
      " [-0.39687586 -0.16662497  0.24300203 -0.86929609]\n",
      " [-0.81403649 -0.07202495 -0.52451613  0.23883014]\n",
      " [-0.29986176  0.87154157  0.38038788  0.07617926]]\n",
      "[[-1.13385581e+00 -3.60998282e-01 -2.95099251e+00  1.01071052e+00]\n",
      " [ 2.21424777e-17 -6.40531217e-01 -4.28857747e-01  1.36816497e-01]\n",
      " [-1.07170808e-16 -2.61264017e-17 -1.08079798e+00  2.01973547e+00]\n",
      " [-5.85795884e-17  1.07904415e-16  0.00000000e+00 -4.52232385e-01]]\n"
     ]
    }
   ],
   "source": [
    "A = np.array([[0.34,0.4,0.3,0.9],[0.45,0.25,0.98,0.46],[0.923,0.34,3,-2],[0.34,-0.45,0.1,0.55]])\n",
    "print(nla.cond(A))\n",
    "Q,R=Householder(A)\n",
    "print (Q)\n",
    "print(R)"
   ]
  },
  {
   "cell_type": "code",
   "execution_count": 38,
   "metadata": {},
   "outputs": [
    {
     "data": {
      "text/plain": [
       "array([[-0.29986176, -0.39687586, -0.81403649, -0.29986176],\n",
       "       [-0.45548197, -0.16662497, -0.07202495,  0.87154157],\n",
       "       [ 0.72189882,  0.24300203, -0.52451613,  0.38038788],\n",
       "       [ 0.4260061 , -0.86929609,  0.23883014,  0.07617926]])"
      ]
     },
     "execution_count": 38,
     "metadata": {},
     "output_type": "execute_result"
    }
   ],
   "source": [
    "np.transpose(Q)"
   ]
  },
  {
   "cell_type": "code",
   "execution_count": 39,
   "metadata": {},
   "outputs": [
    {
     "data": {
      "text/plain": [
       "array([[-0.29986176, -0.39687586, -0.81403649, -0.29986176],\n",
       "       [-0.45548197, -0.16662497, -0.07202495,  0.87154157],\n",
       "       [ 0.72189882,  0.24300203, -0.52451613,  0.38038788],\n",
       "       [ 0.4260061 , -0.86929609,  0.23883014,  0.07617926]])"
      ]
     },
     "execution_count": 39,
     "metadata": {},
     "output_type": "execute_result"
    }
   ],
   "source": [
    "nla.inv(Q)"
   ]
  },
  {
   "cell_type": "code",
   "execution_count": 23,
   "metadata": {},
   "outputs": [
    {
     "data": {
      "text/plain": [
       "array([[-1.13385581e+00, -3.60998282e-01, -2.95099251e+00,\n",
       "         1.01071052e+00],\n",
       "       [ 2.21424777e-17, -6.40531217e-01, -4.28857747e-01,\n",
       "         1.36816497e-01],\n",
       "       [-1.07170808e-16, -2.61264017e-17, -1.08079798e+00,\n",
       "         2.01973547e+00],\n",
       "       [-5.85795884e-17,  1.07904415e-16,  0.00000000e+00,\n",
       "        -4.52232385e-01]])"
      ]
     },
     "execution_count": 23,
     "metadata": {},
     "output_type": "execute_result"
    }
   ],
   "source": [
    "R"
   ]
  },
  {
   "cell_type": "code",
   "execution_count": null,
   "metadata": {},
   "outputs": [],
   "source": []
  },
  {
   "cell_type": "markdown",
   "metadata": {},
   "source": [
    "# Givens Rotation"
   ]
  },
  {
   "cell_type": "code",
   "execution_count": 24,
   "metadata": {},
   "outputs": [],
   "source": [
    "def zeroing_givens_coeffs(x,z):\n",
    "    ''' for the values x,z compute cos th, sin th \n",
    "        s.t. applying a Givens rotation G(cos th,sin th) \n",
    "             on 2 rows(or cols) with values x,z will\n",
    "             maps x --> r and z --> 0'''\n",
    "    if z == 0.0: # better:  abs(z) < np.finfo(np.double).eps\n",
    "        return 1.0,0.0\n",
    "    r = np.hypot(x,z) # C99 hypot is safe for under/overflow\n",
    "    return x/r, -z/r"
   ]
  },
  {
   "cell_type": "code",
   "execution_count": 84,
   "metadata": {},
   "outputs": [],
   "source": [
    "def rotate_vector(x,y):\n",
    "    ''' \n",
    "    Given a vector with two element x and y \n",
    "    rotate and normalize the vector\n",
    "    '''\n",
    "    if y == 0.0: # better:  abs(z) < np.finfo(np.double).eps\n",
    "        return 1.0,0.0\n",
    "    r = np.hypot(x,y) # C99 hypot is safe for under/overflow\n",
    "    return x/r, -y/r"
   ]
  },
  {
   "cell_type": "code",
   "execution_count": 85,
   "metadata": {},
   "outputs": [
    {
     "data": {
      "text/plain": [
       "(0.6, -0.8)"
      ]
     },
     "execution_count": 85,
     "metadata": {},
     "output_type": "execute_result"
    }
   ],
   "source": [
    "rotate_vector(3,4)"
   ]
  },
  {
   "cell_type": "code",
   "execution_count": 86,
   "metadata": {},
   "outputs": [],
   "source": [
    "# GvL, pg. 216 .... Section 5.1.9\n",
    "def givensRotation(c, s, A, r1, r2):\n",
    "    ''' \n",
    "    Given a matrix A ,rows r1 and r2 and scalars s and c\n",
    "    conduct a single Givens rotation\n",
    "    '''\n",
    "    givensT = np.array([[ c, -s],   # manually transposed \n",
    "                        [ s,  c]])\n",
    "    A[[r1,r2],:] = np.dot(givensT, A[[r1,r2],:])"
   ]
  },
  {
   "cell_type": "code",
   "execution_count": 87,
   "metadata": {},
   "outputs": [],
   "source": [
    "def givens_QR(A):\n",
    "    m, n = A.shape\n",
    "    Q = np.eye(m)\n",
    "    R = A\n",
    "    for i in range(n):\n",
    "        for j in reversed(range(i+1, m)):  # m-1, m-2, ... c+2, c+1\n",
    "            # in this row and the previous row, use zeroing givens to\n",
    "            # place a zero in the lower row\n",
    "            coeffs = rotate_vector(R[j-1, i], R[j,i])\n",
    "            c = coeffs[0]\n",
    "            s = coeffs[1]\n",
    "            givensRotation(c, s, R[:, i:], j-1, j) \n",
    "            #print(R)\n",
    "            # left_givensT(coeffs, A[r-1:r+1, c:], 0, 1)\n",
    "            givensRotation(c, s, Q[:, i:], j-1, j)\n",
    "            #print(Q)\n",
    "    return Q,R"
   ]
  },
  {
   "cell_type": "code",
   "execution_count": 99,
   "metadata": {},
   "outputs": [],
   "source": [
    "A_mat = np.array([[0.34,0.4,0.3,0.9],[0.45,0.25,0.98,0.46],[0.923,0.34,3,-2],[0.34,-0.45,0.1,0.55]])\n",
    "Q, R = givens_QR(A_mat)\n",
    "A_mat = np.array([[1,2,3],[4,5,6],[7,8,9]])\n",
    "Q, R = givens_QR(A_mat)"
   ]
  },
  {
   "cell_type": "code",
   "execution_count": 100,
   "metadata": {},
   "outputs": [
    {
     "name": "stdout",
     "output_type": "stream",
     "text": [
      "[[ 0.12403473  0.49230769  0.86153846]\n",
      " [-0.99227788  0.06153846  0.10769231]\n",
      " [ 0.         -0.86824314  0.49613894]]\n",
      "[[ 8  9 10]\n",
      " [ 0  0 -1]\n",
      " [ 0  0  0]]\n"
     ]
    }
   ],
   "source": [
    "print(Q)\n",
    "print(R)"
   ]
  },
  {
   "cell_type": "code",
   "execution_count": 79,
   "metadata": {},
   "outputs": [],
   "source": [
    "import numpy.linalg as nla"
   ]
  },
  {
   "cell_type": "code",
   "execution_count": 101,
   "metadata": {},
   "outputs": [],
   "source": [
    "A_mat = np.array([[0.34,0.4,0.3,0.9],[0.45,0.25,0.98,0.46],[0.923,0.34,3,-2],[0.34,-0.45,0.1,0.55]])\n",
    "A_mat = np.array([[1,2,3],[4,5,6],[7,8,9]])"
   ]
  },
  {
   "cell_type": "code",
   "execution_count": 102,
   "metadata": {},
   "outputs": [],
   "source": [
    "Q = nla.qr(A_mat)[0]"
   ]
  },
  {
   "cell_type": "code",
   "execution_count": 103,
   "metadata": {},
   "outputs": [
    {
     "name": "stdout",
     "output_type": "stream",
     "text": [
      "[[ 0.12309149  0.49236596  0.86164044]\n",
      " [-0.90453403 -0.30151134  0.30151134]\n",
      " [-0.40824829  0.81649658 -0.40824829]]\n"
     ]
    }
   ],
   "source": [
    "print(-1 * np.transpose(Q))"
   ]
  },
  {
   "cell_type": "code",
   "execution_count": 104,
   "metadata": {},
   "outputs": [
    {
     "name": "stdout",
     "output_type": "stream",
     "text": [
      "[[-8.12403840e+00 -9.60113630e+00 -1.10782342e+01]\n",
      " [ 0.00000000e+00  9.04534034e-01  1.80906807e+00]\n",
      " [ 0.00000000e+00  0.00000000e+00 -8.12021634e-16]]\n"
     ]
    }
   ],
   "source": [
    "print (nla.qr(A_mat)[1])"
   ]
  },
  {
   "cell_type": "code",
   "execution_count": 64,
   "metadata": {},
   "outputs": [
    {
     "name": "stdout",
     "output_type": "stream",
     "text": [
      "[[-0.29986176 -0.45548197  0.72189882 -0.4260061 ]\n",
      " [-0.39687586 -0.16662497  0.24300203  0.86929609]\n",
      " [-0.81403649 -0.07202495 -0.52451613 -0.23883014]\n",
      " [-0.29986176  0.87154157  0.38038788 -0.07617926]]\n"
     ]
    }
   ],
   "source": [
    "print (nla.qr(A_mat)[0])"
   ]
  },
  {
   "cell_type": "code",
   "execution_count": 51,
   "metadata": {},
   "outputs": [
    {
     "data": {
      "text/plain": [
       "array([[ 3.40000000e-01,  3.62460958e-01,  1.93490208e+00,\n",
       "        -1.86590376e+00],\n",
       "       [-1.08167879e+00, -2.37657607e-01, -2.66589287e+00,\n",
       "         4.01792612e-01],\n",
       "       [-9.94765808e-19, -1.48935380e-01,  4.67178599e-01,\n",
       "        -1.19959518e+00],\n",
       "       [-1.13568225e-17, -5.58644875e-01, -6.32159144e-01,\n",
       "         5.67248666e-01]])"
      ]
     },
     "execution_count": 51,
     "metadata": {},
     "output_type": "execute_result"
    }
   ],
   "source": [
    "np.matmul(Q, R)"
   ]
  },
  {
   "cell_type": "code",
   "execution_count": 52,
   "metadata": {},
   "outputs": [
    {
     "data": {
      "text/plain": [
       "array([[ 1.00000000e+00, -3.99494409e-02,  1.75387863e-01,\n",
       "         9.21352622e-01],\n",
       "       [-3.99494409e-02,  1.00000000e+00,  4.21410644e-01,\n",
       "         1.28674942e-01],\n",
       "       [ 1.75387863e-01,  4.21410644e-01,  1.00000000e+00,\n",
       "        -2.77555756e-17],\n",
       "       [ 9.21352622e-01,  1.28674942e-01, -2.77555756e-17,\n",
       "         1.00000000e+00]])"
      ]
     },
     "execution_count": 52,
     "metadata": {},
     "output_type": "execute_result"
    }
   ],
   "source": [
    "np.matmul(np.transpose(Q),Q)"
   ]
  },
  {
   "cell_type": "code",
   "execution_count": 37,
   "metadata": {},
   "outputs": [
    {
     "name": "stdout",
     "output_type": "stream",
     "text": [
      "8\n",
      "7\n",
      "6\n",
      "5\n",
      "4\n",
      "3\n",
      "2\n",
      "1\n",
      "0\n"
     ]
    }
   ],
   "source": [
    "for i in reversed(range(0, 9)):\n",
    "    print(i)"
   ]
  },
  {
   "cell_type": "code",
   "execution_count": 57,
   "metadata": {},
   "outputs": [],
   "source": [
    "def givens_rotation(A):\n",
    "    \"\"\"Perform QR decomposition of matrix A using Givens rotation.\"\"\"\n",
    "    m, n = np.shape(A)\n",
    "\n",
    "    # Initialize orthogonal matrix Q and upper triangular matrix R.\n",
    "    Q = np.identity(m)\n",
    "    R = np.copy(A)\n",
    "\n",
    "    # Iterate over lower triangular matrix.\n",
    "    (rows, cols) = np.tril_indices(m, -1, n)\n",
    "    for (row, col) in zip(rows, cols):\n",
    "\n",
    "        # Compute Givens rotation matrix and\n",
    "        # zero-out lower triangular matrix entries.\n",
    "        if R[row, col] != 0:\n",
    "            (c, s) = rotate_vector(R[col, col], R[row, col])\n",
    "\n",
    "            G = np.identity(m)\n",
    "            G[[col, row], [col, row]] = c\n",
    "            G[row, col] = s\n",
    "            G[col, row] = -s\n",
    "\n",
    "            R = np.dot(G, R)\n",
    "            Q = np.dot(Q, np.transpose(G))\n",
    "\n",
    "    return (Q, R)"
   ]
  },
  {
   "cell_type": "code",
   "execution_count": 58,
   "metadata": {},
   "outputs": [
    {
     "data": {
      "text/plain": [
       "(array([[ 0.09265586,  0.70853188, -0.34347701, -0.6094432 ],\n",
       "        [-0.12263276,  0.46265689,  0.87767035,  0.02458789],\n",
       "        [ 0.92074546,  0.18495337,  0.02154944,  0.34286392],\n",
       "        [-0.35861384,  0.49972336, -0.33354748,  0.71443597]]),\n",
       " array([[ 0.70423761,  0.48083384,  2.63399166, -2.01174933],\n",
       "        [ 0.78971434,  0.23708561,  1.27079575,  0.75544197],\n",
       "        [ 0.18465347,  0.23944996,  0.78836742, -0.13195095],\n",
       "        [ 0.36322549, -0.44255276,  0.94129853, -0.8299765 ]]))"
      ]
     },
     "execution_count": 58,
     "metadata": {},
     "output_type": "execute_result"
    }
   ],
   "source": [
    "A_mat = np.array([[0.34,0.4,0.3,0.9],[0.45,0.25,0.98,0.46],[0.923,0.34,3,-2],[0.34,-0.45,0.1,0.55]])\n",
    "givens_rotation(A_mat)"
   ]
  },
  {
   "cell_type": "code",
   "execution_count": null,
   "metadata": {},
   "outputs": [],
   "source": [
    "import numpy.linalg as nla"
   ]
  }
 ],
 "metadata": {
  "kernelspec": {
   "display_name": "Python 3",
   "language": "python",
   "name": "python3"
  },
  "language_info": {
   "codemirror_mode": {
    "name": "ipython",
    "version": 3
   },
   "file_extension": ".py",
   "mimetype": "text/x-python",
   "name": "python",
   "nbconvert_exporter": "python",
   "pygments_lexer": "ipython3",
   "version": "3.6.5"
  }
 },
 "nbformat": 4,
 "nbformat_minor": 1
}
