{
 "cells": [
  {
   "cell_type": "markdown",
   "metadata": {},
   "source": [
    "# Matrix Norm"
   ]
  },
  {
   "cell_type": "code",
   "execution_count": 1,
   "metadata": {},
   "outputs": [],
   "source": [
    "import numpy as np"
   ]
  },
  {
   "cell_type": "code",
   "execution_count": 2,
   "metadata": {},
   "outputs": [],
   "source": [
    " b = np.array([[2,3,4],[5,7,9],[3,5,2]])"
   ]
  },
  {
   "cell_type": "code",
   "execution_count": 3,
   "metadata": {},
   "outputs": [
    {
     "data": {
      "text/plain": [
       "array([[2, 3, 4],\n",
       "       [5, 7, 9],\n",
       "       [3, 5, 2]])"
      ]
     },
     "execution_count": 3,
     "metadata": {},
     "output_type": "execute_result"
    }
   ],
   "source": [
    "b"
   ]
  },
  {
   "cell_type": "code",
   "execution_count": 4,
   "metadata": {},
   "outputs": [
    {
     "data": {
      "text/plain": [
       "21.0"
      ]
     },
     "execution_count": 4,
     "metadata": {},
     "output_type": "execute_result"
    }
   ],
   "source": [
    "np.linalg.norm(b,ord=np.inf)"
   ]
  },
  {
   "cell_type": "code",
   "execution_count": 5,
   "metadata": {},
   "outputs": [
    {
     "data": {
      "text/plain": [
       "15.0"
      ]
     },
     "execution_count": 5,
     "metadata": {},
     "output_type": "execute_result"
    }
   ],
   "source": [
    "np.linalg.norm(b,ord=1)"
   ]
  },
  {
   "cell_type": "code",
   "execution_count": null,
   "metadata": {},
   "outputs": [],
   "source": []
  },
  {
   "cell_type": "markdown",
   "metadata": {},
   "source": [
    "## Matrix Norm Identities"
   ]
  },
  {
   "cell_type": "markdown",
   "metadata": {},
   "source": [
    "$||\\gamma A|| = |\\gamma| \\times ||A||$ for any scalar $\\gamma$"
   ]
  },
  {
   "cell_type": "code",
   "execution_count": 6,
   "metadata": {},
   "outputs": [],
   "source": [
    "A = np.array([[-2,1,0],[5,9,9],[2,3,-2]])"
   ]
  },
  {
   "cell_type": "code",
   "execution_count": 7,
   "metadata": {},
   "outputs": [
    {
     "data": {
      "text/plain": [
       "13.75151857513156"
      ]
     },
     "execution_count": 7,
     "metadata": {},
     "output_type": "execute_result"
    }
   ],
   "source": [
    "np.linalg.norm(A,ord=2)"
   ]
  },
  {
   "cell_type": "code",
   "execution_count": 8,
   "metadata": {},
   "outputs": [
    {
     "data": {
      "text/plain": [
       "27.50303715026312"
      ]
     },
     "execution_count": 8,
     "metadata": {},
     "output_type": "execute_result"
    }
   ],
   "source": [
    "np.linalg.norm(2*A,ord=2)"
   ]
  },
  {
   "cell_type": "code",
   "execution_count": null,
   "metadata": {},
   "outputs": [],
   "source": []
  },
  {
   "cell_type": "markdown",
   "metadata": {},
   "source": [
    "$||A+ B|| \\leq ||A|| + ||B||$"
   ]
  },
  {
   "cell_type": "code",
   "execution_count": 9,
   "metadata": {},
   "outputs": [],
   "source": [
    "a = np.random.normal(loc=5, size=9)\n",
    "A = a.reshape((3, 3))\n",
    "b = np.random.normal(loc=3, size=9)\n",
    "B = b.reshape((3, 3))"
   ]
  },
  {
   "cell_type": "code",
   "execution_count": 10,
   "metadata": {},
   "outputs": [],
   "source": [
    "a_norm = np.linalg.norm(A,ord=2)\n",
    "b_norm = np.linalg.norm(B,ord=2)\n",
    "sum_norm = np.linalg.norm(A+B,ord=2)"
   ]
  },
  {
   "cell_type": "code",
   "execution_count": 11,
   "metadata": {},
   "outputs": [
    {
     "name": "stdout",
     "output_type": "stream",
     "text": [
      "25.423155862134863\n",
      "25.165590542093362\n"
     ]
    }
   ],
   "source": [
    "print(a_norm + b_norm)\n",
    "print(sum_norm)"
   ]
  },
  {
   "cell_type": "code",
   "execution_count": null,
   "metadata": {},
   "outputs": [],
   "source": []
  },
  {
   "cell_type": "markdown",
   "metadata": {},
   "source": [
    "$||AB|| \\leq ||A|| \\times ||B||$"
   ]
  },
  {
   "cell_type": "code",
   "execution_count": 12,
   "metadata": {},
   "outputs": [],
   "source": [
    "prod_norm = np.linalg.norm(np.dot(A,B),ord=2)"
   ]
  },
  {
   "cell_type": "code",
   "execution_count": 13,
   "metadata": {},
   "outputs": [
    {
     "name": "stdout",
     "output_type": "stream",
     "text": [
      "144.1414195125188\n",
      "142.70616316364524\n"
     ]
    }
   ],
   "source": [
    "print(a_norm * b_norm)\n",
    "print(prod_norm)"
   ]
  },
  {
   "cell_type": "code",
   "execution_count": null,
   "metadata": {},
   "outputs": [],
   "source": []
  },
  {
   "cell_type": "markdown",
   "metadata": {},
   "source": [
    "$||Ax|| \\leq ||A|| \\times ||x||$ for any vector x"
   ]
  },
  {
   "cell_type": "code",
   "execution_count": 128,
   "metadata": {},
   "outputs": [],
   "source": [
    "x = np.array([[3],[4],[9.2]])"
   ]
  },
  {
   "cell_type": "code",
   "execution_count": 129,
   "metadata": {},
   "outputs": [],
   "source": [
    "vecProd_norm = np.linalg.norm(np.dot(A,x),ord=2)\n",
    "x_norm = np.linalg.norm(x,ord=2)"
   ]
  },
  {
   "cell_type": "code",
   "execution_count": 130,
   "metadata": {},
   "outputs": [
    {
     "name": "stdout",
     "output_type": "stream",
     "text": [
      "165.49730238020138\n",
      "153.3038285894252\n"
     ]
    }
   ],
   "source": [
    "print(a_norm * x_norm)\n",
    "print(vecProd_norm)"
   ]
  },
  {
   "cell_type": "code",
   "execution_count": null,
   "metadata": {},
   "outputs": [],
   "source": []
  },
  {
   "cell_type": "markdown",
   "metadata": {},
   "source": [
    "# Gaussian Elimintation"
   ]
  },
  {
   "cell_type": "markdown",
   "metadata": {},
   "source": [
    "### Assuming matrices are in the traingular form"
   ]
  },
  {
   "cell_type": "code",
   "execution_count": 111,
   "metadata": {},
   "outputs": [],
   "source": [
    "import numpy as np"
   ]
  },
  {
   "cell_type": "code",
   "execution_count": 4,
   "metadata": {},
   "outputs": [],
   "source": [
    "def gaussElem_lower(A, b):\n",
    "    \"\"\"\n",
    "    Given lower triangular matrix, solves the system of equations\n",
    "    \"\"\"\n",
    "    \n",
    "    n = len(b)\n",
    "    x = [None]* n\n",
    "    for j in range(n):\n",
    "        if A[j,j] == 0:\n",
    "            print('Matrix provided is singular')\n",
    "            break\n",
    "        x[j] = b[j]/A[j,j]\n",
    "        for i in range(j+1, n):\n",
    "            b[i] = b[i] - A[i,j]*x[j]\n",
    "    return(x)\n",
    "            \n",
    "    \n",
    "    \n",
    "    "
   ]
  },
  {
   "cell_type": "code",
   "execution_count": 5,
   "metadata": {},
   "outputs": [],
   "source": [
    "A = np.array([[4,0,0],[1,1,0],[-2,4,2]])\n",
    "c = [8,4,2]"
   ]
  },
  {
   "cell_type": "code",
   "execution_count": 6,
   "metadata": {},
   "outputs": [
    {
     "data": {
      "text/plain": [
       "[2.0, 2.0, -1.0]"
      ]
     },
     "execution_count": 6,
     "metadata": {},
     "output_type": "execute_result"
    }
   ],
   "source": [
    "gaussElem_lower(A, c)"
   ]
  },
  {
   "cell_type": "code",
   "execution_count": 7,
   "metadata": {},
   "outputs": [
    {
     "name": "stdout",
     "output_type": "stream",
     "text": [
      "Matrix provided is singular\n"
     ]
    },
    {
     "data": {
      "text/plain": [
       "[2.0, None, None]"
      ]
     },
     "execution_count": 7,
     "metadata": {},
     "output_type": "execute_result"
    }
   ],
   "source": [
    "A = np.array([[4,0,0],[1,0,0],[-2,4,2]])\n",
    "c = [8,4,2]\n",
    "gaussElem_lower(A, c)"
   ]
  },
  {
   "cell_type": "code",
   "execution_count": 25,
   "metadata": {},
   "outputs": [
    {
     "data": {
      "text/plain": [
       "3"
      ]
     },
     "execution_count": 25,
     "metadata": {},
     "output_type": "execute_result"
    }
   ],
   "source": [
    "A.shape[1]"
   ]
  },
  {
   "cell_type": "code",
   "execution_count": null,
   "metadata": {},
   "outputs": [],
   "source": []
  },
  {
   "cell_type": "code",
   "execution_count": 184,
   "metadata": {},
   "outputs": [],
   "source": [
    "def LUFactorization(A):\n",
    "    nrows = A.shape[0]\n",
    "    ncols = A.shape[1]\n",
    "    n = nrows\n",
    "    if nrows == ncols:\n",
    "        L = np.identity(n)\n",
    "        U = A\n",
    "        for i in range(n-1):\n",
    "            for j in range(i+1,n):\n",
    "                L[j, i] = U[j,i]/U[i,i]\n",
    "                U[j,i:n] = U[j,i:n] - (L[j,i] * U[i,i:n])\n",
    "    return(L,U)\n",
    "            \n",
    "        \n",
    "def systemSolve(A, b):\n",
    "    L,U = LUFactorization(A)\n",
    "        \n",
    "    # Forward substitution with L\n",
    "    n = len(b)\n",
    "    c = [None]* n\n",
    "    for j in range(n):\n",
    "        c[j] = b[j]/float(L[j,j])\n",
    "        #print(c[j])\n",
    "        for i in range(j+1, n):\n",
    "            b[i] = b[i] - L[i,j]*c[j]\n",
    "\n",
    "                \n",
    "    # Backward substitution with U \n",
    "    x = [None]* n\n",
    "    for j in range(n-1,-1,-1):\n",
    "        x[j] = c[j]/float(U[j,j])\n",
    "        for i in range(j):\n",
    "            c[i] = c[i] - U[i,j]*x[j]\n",
    "                \n",
    "    return(x)\n",
    "                \n",
    "            \n",
    "            \n",
    "        \n",
    "        \n"
   ]
  },
  {
   "cell_type": "code",
   "execution_count": 185,
   "metadata": {},
   "outputs": [
    {
     "name": "stdout",
     "output_type": "stream",
     "text": [
      "[[1. 0. 0.]\n",
      " [4. 1. 0.]\n",
      " [7. 2. 1.]]\n",
      "[[ 1  2  3]\n",
      " [ 0 -3 -6]\n",
      " [ 0  0  0]]\n"
     ]
    }
   ],
   "source": [
    "A = np.array([[1,2,3],[4,5,6],[7,8,9]])\n",
    "L,U = LUFactorization(A)\n",
    "print(L)\n",
    "print(U)"
   ]
  },
  {
   "cell_type": "code",
   "execution_count": 186,
   "metadata": {},
   "outputs": [
    {
     "data": {
      "text/plain": [
       "[1.0, -1.0, -0.0, 2.0]"
      ]
     },
     "execution_count": 186,
     "metadata": {},
     "output_type": "execute_result"
    }
   ],
   "source": [
    "A = np.array([[2,1,-2,3],[3,0,4,-2],[2,-1,1,5],[5,2,3,1]])\n",
    "A = A.astype(float)\n",
    "vec = [7,-1,13,5]\n",
    "systemSolve(A,vec)"
   ]
  },
  {
   "cell_type": "code",
   "execution_count": null,
   "metadata": {},
   "outputs": [],
   "source": []
  }
 ],
 "metadata": {
  "kernelspec": {
   "display_name": "Python 3",
   "language": "python",
   "name": "python3"
  },
  "language_info": {
   "codemirror_mode": {
    "name": "ipython",
    "version": 3
   },
   "file_extension": ".py",
   "mimetype": "text/x-python",
   "name": "python",
   "nbconvert_exporter": "python",
   "pygments_lexer": "ipython3",
   "version": "3.6.5"
  }
 },
 "nbformat": 4,
 "nbformat_minor": 1
}
