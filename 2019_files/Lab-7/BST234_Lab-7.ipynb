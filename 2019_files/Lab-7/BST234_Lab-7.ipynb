{
 "cells": [
  {
   "cell_type": "markdown",
   "metadata": {},
   "source": [
    "# QR decomposition"
   ]
  },
  {
   "cell_type": "code",
   "execution_count": 16,
   "metadata": {},
   "outputs": [],
   "source": [
    "import numpy as np"
   ]
  },
  {
   "cell_type": "code",
   "execution_count": 17,
   "metadata": {},
   "outputs": [],
   "source": [
    "import numpy.linalg as nla"
   ]
  },
  {
   "cell_type": "code",
   "execution_count": 18,
   "metadata": {},
   "outputs": [],
   "source": [
    "A = np.array([[0.34,0.4,0.3,0.9],[0.45,0.25,0.98,0.46],[0.923,0.34,3,-2],[0.34,-0.45,0.1,0.55]])"
   ]
  },
  {
   "cell_type": "code",
   "execution_count": 19,
   "metadata": {},
   "outputs": [],
   "source": [
    "Q = nla.qr(A)[0]\n",
    "R = nla.qr(A)[1]"
   ]
  },
  {
   "cell_type": "code",
   "execution_count": 20,
   "metadata": {},
   "outputs": [
    {
     "name": "stdout",
     "output_type": "stream",
     "text": [
      "[[-0.29986176 -0.45548197  0.72189882 -0.4260061 ]\n",
      " [-0.39687586 -0.16662497  0.24300203  0.86929609]\n",
      " [-0.81403649 -0.07202495 -0.52451613 -0.23883014]\n",
      " [-0.29986176  0.87154157  0.38038788 -0.07617926]]\n",
      "[[-1.13385581 -0.36099828 -2.95099251  1.01071052]\n",
      " [ 0.         -0.64053122 -0.42885775  0.1368165 ]\n",
      " [ 0.          0.         -1.08079798  2.01973547]\n",
      " [ 0.          0.          0.          0.45223238]]\n"
     ]
    }
   ],
   "source": [
    "print(Q)\n",
    "print(R)"
   ]
  },
  {
   "cell_type": "code",
   "execution_count": 56,
   "metadata": {},
   "outputs": [
    {
     "data": {
      "text/plain": [
       "array([[ 0.34 ,  0.4  ,  0.3  ,  0.9  ],\n",
       "       [ 0.45 ,  0.25 ,  0.98 ,  0.46 ],\n",
       "       [ 0.923,  0.34 ,  3.   , -2.   ],\n",
       "       [ 0.34 , -0.45 ,  0.1  ,  0.55 ]])"
      ]
     },
     "execution_count": 56,
     "metadata": {},
     "output_type": "execute_result"
    }
   ],
   "source": [
    "np.matmul(Q,R)"
   ]
  },
  {
   "cell_type": "code",
   "execution_count": 57,
   "metadata": {},
   "outputs": [
    {
     "data": {
      "text/plain": [
       "array([[ 0.34 ,  0.4  ,  0.3  ,  0.9  ],\n",
       "       [ 0.45 ,  0.25 ,  0.98 ,  0.46 ],\n",
       "       [ 0.923,  0.34 ,  3.   , -2.   ],\n",
       "       [ 0.34 , -0.45 ,  0.1  ,  0.55 ]])"
      ]
     },
     "execution_count": 57,
     "metadata": {},
     "output_type": "execute_result"
    }
   ],
   "source": [
    "A"
   ]
  },
  {
   "cell_type": "markdown",
   "metadata": {},
   "source": [
    "## Givens Rotation"
   ]
  },
  {
   "cell_type": "code",
   "execution_count": 23,
   "metadata": {},
   "outputs": [],
   "source": [
    "def rotate_vector(x,y):\n",
    "    ''' \n",
    "    Given a vector with two element x and y \n",
    "    rotate and normalize the vector\n",
    "    '''\n",
    "    if y == 0.0: \n",
    "        return 1.0,0.0\n",
    "    r = np.hypot(x,y) \n",
    "    return x/r, -y/r"
   ]
  },
  {
   "cell_type": "code",
   "execution_count": 24,
   "metadata": {},
   "outputs": [],
   "source": [
    "def givens_rotation(A):\n",
    "    \"\"\"Given a matrix A output Q and R matrix via\n",
    "       Givens rotation \"\"\"\n",
    "    m, n = np.shape(A)\n",
    "\n",
    "    # Initialize orthogonal matrix Q and upper triangular matrix R\n",
    "    Q = np.identity(m)\n",
    "    R = A\n",
    "\n",
    "    # Iterate over lower triangular matrix.\n",
    "    (rows, cols) = np.tril_indices(m, -1, n) # Return the indices for the lower-triangle of an array\n",
    "    for (row, col) in zip(rows, cols):\n",
    "\n",
    "        if R[row, col] != 0:\n",
    "            (c, s) = rotate_vector(R[col, col], R[row, col])\n",
    "\n",
    "            G = np.identity(m)\n",
    "            G[[col, row], [col, row]] = c\n",
    "            G[row, col] = s\n",
    "            G[col, row] = -s\n",
    "\n",
    "            R = np.dot(G, R)\n",
    "            Q = np.dot(Q, np.transpose(G))\n",
    "\n",
    "    return (Q, R)"
   ]
  },
  {
   "cell_type": "code",
   "execution_count": 25,
   "metadata": {},
   "outputs": [
    {
     "name": "stdout",
     "output_type": "stream",
     "text": [
      "[[ 0.29986176  0.45548197 -0.72189882 -0.4260061 ]\n",
      " [ 0.39687586  0.16662497 -0.24300203  0.86929609]\n",
      " [ 0.81403649  0.07202495  0.52451613 -0.23883014]\n",
      " [ 0.29986176 -0.87154157 -0.38038788 -0.07617926]]\n",
      "[[ 1.13385581e+00  3.60998282e-01  2.95099251e+00 -1.01071052e+00]\n",
      " [-2.18114435e-17  6.40531217e-01  4.28857747e-01 -1.36816497e-01]\n",
      " [ 4.50540381e-17 -1.75389979e-18  1.08079798e+00 -2.01973547e+00]\n",
      " [ 1.08369319e-17 -5.07920389e-18 -2.46348943e-18  4.52232385e-01]]\n"
     ]
    }
   ],
   "source": [
    "A_mat = np.array([[0.34,0.4,0.3,0.9],[0.45,0.25,0.98,0.46],[0.923,0.34,3,-2],[0.34,-0.45,0.1,0.55]])\n",
    "Q, R = givens_rotation(A_mat)\n",
    "# A_mat = np.array([[1,2,3],[4,5,6],[7,8,9]])\n",
    "# Q, R = givens_QR(A_mat)\n",
    "print(Q)\n",
    "print(R)"
   ]
  },
  {
   "cell_type": "code",
   "execution_count": 26,
   "metadata": {},
   "outputs": [
    {
     "data": {
      "text/plain": [
       "array([[ 0.34 ,  0.4  ,  0.3  ,  0.9  ],\n",
       "       [ 0.45 ,  0.25 ,  0.98 ,  0.46 ],\n",
       "       [ 0.923,  0.34 ,  3.   , -2.   ],\n",
       "       [ 0.34 , -0.45 ,  0.1  ,  0.55 ]])"
      ]
     },
     "execution_count": 26,
     "metadata": {},
     "output_type": "execute_result"
    }
   ],
   "source": [
    "np.matmul(Q,R)"
   ]
  },
  {
   "cell_type": "markdown",
   "metadata": {},
   "source": [
    "## Householder transformation"
   ]
  },
  {
   "cell_type": "code",
   "execution_count": 27,
   "metadata": {},
   "outputs": [],
   "source": [
    "import numpy as np"
   ]
  },
  {
   "cell_type": "code",
   "execution_count": 28,
   "metadata": {},
   "outputs": [],
   "source": [
    "def Householder(A):\n",
    "    m,n = A.shape\n",
    "    R = A\n",
    "    Q = np.eye(m)\n",
    "\n",
    "    for j in range(n):\n",
    "        x = R[j:,j]\n",
    "        e_1 = np.zeros(len(x))\n",
    "        e_1[0] = 1\n",
    "        v_k = np.sign(x[0])*nla.norm(x)*e_1+x\n",
    "        v_k = v_k/nla.norm(v_k) # normalize the reflection vector\n",
    "\n",
    "        # Form of Householder transformation is H = I - 2(vv^t)/(v^tv)\n",
    "        # R[j:, :]H Will eliminate all subdiagonal elements\n",
    "        # Hence R[j:, :]H = R[j:, :] - R[j:, :]*2(vv^t)/(v^tv)\n",
    "        R[j:, :] = R[j:, :] - 2* np.outer(v_k, v_k).dot(R[j:, :])\n",
    "        Q[:, j:] = Q[:, j:] - 2 * Q[:, j:].dot(np.outer(v_k, v_k))\n",
    "    \n",
    "    return(Q,R)"
   ]
  },
  {
   "cell_type": "code",
   "execution_count": 29,
   "metadata": {},
   "outputs": [
    {
     "name": "stdout",
     "output_type": "stream",
     "text": [
      "37.757292558597214\n",
      "[[-0.29986176 -0.45548197  0.72189882  0.4260061 ]\n",
      " [-0.39687586 -0.16662497  0.24300203 -0.86929609]\n",
      " [-0.81403649 -0.07202495 -0.52451613  0.23883014]\n",
      " [-0.29986176  0.87154157  0.38038788  0.07617926]]\n",
      "[[-1.13385581e+00 -3.60998282e-01 -2.95099251e+00  1.01071052e+00]\n",
      " [-5.42130523e-17 -6.40531217e-01 -4.28857747e-01  1.36816497e-01]\n",
      " [-1.18713320e-17  8.49702052e-19 -1.08079798e+00  2.01973547e+00]\n",
      " [ 1.22651845e-18  1.14436015e-16 -1.11022302e-16 -4.52232385e-01]]\n"
     ]
    }
   ],
   "source": [
    "A = np.array([[0.34,0.4,0.3,0.9],[0.45,0.25,0.98,0.46],[0.923,0.34,3,-2],[0.34,-0.45,0.1,0.55]])\n",
    "print(nla.cond(A))\n",
    "Q,R=Householder(A)\n",
    "print (Q)\n",
    "print(R)"
   ]
  },
  {
   "cell_type": "code",
   "execution_count": null,
   "metadata": {},
   "outputs": [],
   "source": []
  },
  {
   "cell_type": "code",
   "execution_count": 30,
   "metadata": {},
   "outputs": [
    {
     "data": {
      "text/plain": [
       "array([[-0.29986176, -0.39687586, -0.81403649, -0.29986176],\n",
       "       [-0.45548197, -0.16662497, -0.07202495,  0.87154157],\n",
       "       [ 0.72189882,  0.24300203, -0.52451613,  0.38038788],\n",
       "       [ 0.4260061 , -0.86929609,  0.23883014,  0.07617926]])"
      ]
     },
     "execution_count": 30,
     "metadata": {},
     "output_type": "execute_result"
    }
   ],
   "source": [
    "np.transpose(Q)"
   ]
  },
  {
   "cell_type": "code",
   "execution_count": 31,
   "metadata": {},
   "outputs": [
    {
     "data": {
      "text/plain": [
       "array([[-0.29986176, -0.39687586, -0.81403649, -0.29986176],\n",
       "       [-0.45548197, -0.16662497, -0.07202495,  0.87154157],\n",
       "       [ 0.72189882,  0.24300203, -0.52451613,  0.38038788],\n",
       "       [ 0.4260061 , -0.86929609,  0.23883014,  0.07617926]])"
      ]
     },
     "execution_count": 31,
     "metadata": {},
     "output_type": "execute_result"
    }
   ],
   "source": [
    "nla.inv(Q)"
   ]
  },
  {
   "cell_type": "code",
   "execution_count": 22,
   "metadata": {},
   "outputs": [
    {
     "data": {
      "text/plain": [
       "array([[-1.13385581e+00, -3.60998282e-01, -2.95099251e+00,\n",
       "         1.01071052e+00],\n",
       "       [-5.42130523e-17, -6.40531217e-01, -4.28857747e-01,\n",
       "         1.36816497e-01],\n",
       "       [-1.18713320e-17,  8.49702052e-19, -1.08079798e+00,\n",
       "         2.01973547e+00],\n",
       "       [ 1.22651845e-18,  1.14436015e-16, -1.11022302e-16,\n",
       "        -4.52232385e-01]])"
      ]
     },
     "execution_count": 22,
     "metadata": {},
     "output_type": "execute_result"
    }
   ],
   "source": [
    "R"
   ]
  },
  {
   "cell_type": "code",
   "execution_count": 32,
   "metadata": {},
   "outputs": [
    {
     "data": {
      "text/plain": [
       "array([[ 0.34 ,  0.4  ,  0.3  ,  0.9  ],\n",
       "       [ 0.45 ,  0.25 ,  0.98 ,  0.46 ],\n",
       "       [ 0.923,  0.34 ,  3.   , -2.   ],\n",
       "       [ 0.34 , -0.45 ,  0.1  ,  0.55 ]])"
      ]
     },
     "execution_count": 32,
     "metadata": {},
     "output_type": "execute_result"
    }
   ],
   "source": [
    "np.matmul(Q,R)"
   ]
  },
  {
   "cell_type": "code",
   "execution_count": null,
   "metadata": {},
   "outputs": [],
   "source": []
  },
  {
   "cell_type": "code",
   "execution_count": null,
   "metadata": {},
   "outputs": [],
   "source": []
  },
  {
   "cell_type": "markdown",
   "metadata": {},
   "source": [
    "## Eigenvalue Algorithms"
   ]
  },
  {
   "cell_type": "markdown",
   "metadata": {},
   "source": [
    "for a traingular matrix"
   ]
  },
  {
   "cell_type": "code",
   "execution_count": 33,
   "metadata": {},
   "outputs": [],
   "source": [
    "def eigValTriangularMatrix(A):\n",
    "    \"\"\"\n",
    "    Given an upper or lower traingular matrix output eigenvalues of the matrix\n",
    "    \"\"\"\n",
    "    \n",
    "    return(np.diag(A))"
   ]
  },
  {
   "cell_type": "code",
   "execution_count": 34,
   "metadata": {},
   "outputs": [],
   "source": [
    "A = np.array([[1,2,3],[0,3,4],[0,0,9]])"
   ]
  },
  {
   "cell_type": "code",
   "execution_count": 35,
   "metadata": {},
   "outputs": [
    {
     "data": {
      "text/plain": [
       "array([1, 3, 9])"
      ]
     },
     "execution_count": 35,
     "metadata": {},
     "output_type": "execute_result"
    }
   ],
   "source": [
    "eigValTriangularMatrix(A)"
   ]
  },
  {
   "cell_type": "code",
   "execution_count": null,
   "metadata": {},
   "outputs": [],
   "source": []
  },
  {
   "cell_type": "code",
   "execution_count": 36,
   "metadata": {},
   "outputs": [],
   "source": [
    "def eigValPowerIteration(A, x0, n_iter):\n",
    "    x_1 = x0\n",
    "    for i in range(n_iter):\n",
    "        x_1 = np.dot(A,x_1)\n",
    "        x_1 = x_1 / np.linalg.norm(x_1)\n",
    "    \n",
    "    eigVal = np.linalg.norm(np.dot(A, x_1))/np.linalg.norm(x_1)\n",
    "    return x_1, eigVal\n",
    "    "
   ]
  },
  {
   "cell_type": "code",
   "execution_count": 37,
   "metadata": {},
   "outputs": [],
   "source": [
    "A = np.array([[1,2,3],[0,3,4],[0,0,9]])"
   ]
  },
  {
   "cell_type": "code",
   "execution_count": 38,
   "metadata": {},
   "outputs": [
    {
     "data": {
      "text/plain": [
       "(array([0.4108907 , 0.50571163, 0.75856745]), 9.000000000000002)"
      ]
     },
     "execution_count": 38,
     "metadata": {},
     "output_type": "execute_result"
    }
   ],
   "source": [
    "eigValPowerIteration(A, [1,2,3], 100)"
   ]
  },
  {
   "cell_type": "code",
   "execution_count": 33,
   "metadata": {},
   "outputs": [],
   "source": []
  },
  {
   "cell_type": "code",
   "execution_count": null,
   "metadata": {},
   "outputs": [],
   "source": [
    "# QR Algorithm for eigen values "
   ]
  },
  {
   "cell_type": "code",
   "execution_count": 39,
   "metadata": {},
   "outputs": [],
   "source": [
    "def eigValQR_algorithm(A, n_iter):\n",
    "    \n",
    "    for i in range(n_iter):\n",
    "        temp = nla.qr(A)\n",
    "        Q = temp[0]\n",
    "        R = temp[1]\n",
    "        A = np.dot(R,Q)\n",
    "    return(np.diag(A))\n"
   ]
  },
  {
   "cell_type": "code",
   "execution_count": 40,
   "metadata": {},
   "outputs": [],
   "source": [
    "A = np.array([[5,2,0,0,0],[2,2,4,0,0],[0,4,4,2,0],[0,0,2,1,4],[0,0,0,4,5]])"
   ]
  },
  {
   "cell_type": "code",
   "execution_count": 41,
   "metadata": {},
   "outputs": [
    {
     "data": {
      "text/plain": [
       "array([ 8.44883331,  7.03390237,  4.78830125, -2.60085857, -0.67017835])"
      ]
     },
     "execution_count": 41,
     "metadata": {},
     "output_type": "execute_result"
    }
   ],
   "source": [
    "eigValQR_algorithm(A, 100)"
   ]
  },
  {
   "cell_type": "code",
   "execution_count": null,
   "metadata": {},
   "outputs": [],
   "source": []
  }
 ],
 "metadata": {
  "kernelspec": {
   "display_name": "Python 3",
   "language": "python",
   "name": "python3"
  },
  "language_info": {
   "codemirror_mode": {
    "name": "ipython",
    "version": 3
   },
   "file_extension": ".py",
   "mimetype": "text/x-python",
   "name": "python",
   "nbconvert_exporter": "python",
   "pygments_lexer": "ipython3",
   "version": "3.6.5"
  }
 },
 "nbformat": 4,
 "nbformat_minor": 2
}
