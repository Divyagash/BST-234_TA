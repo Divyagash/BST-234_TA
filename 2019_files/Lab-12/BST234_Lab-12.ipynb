{
 "cells": [
  {
   "cell_type": "markdown",
   "metadata": {},
   "source": [
    "# Semaphore"
   ]
  },
  {
   "cell_type": "code",
   "execution_count": 5,
   "metadata": {},
   "outputs": [],
   "source": [
    "#!/usr/bin/python\n",
    "import sys\n",
    "import threading\n",
    "import time\n",
    "\n",
    "class Semaphore(object):\n",
    "\n",
    "    def __init__(self, initial):\n",
    "        self.lock = threading.Condition(threading.Lock())\n",
    "        self.value = initial\n",
    "\n",
    "    def up(self):\n",
    "        with self.lock:\n",
    "            self.value += 1\n",
    "            self.lock.notify()\n",
    "            print(self.value)\n",
    "\n",
    "    def down(self):\n",
    "        with self.lock:\n",
    "            while self.value == 0:\n",
    "                self.lock.wait()\n",
    "            self.value -= 1\n",
    "            print(self.value)\n",
    "\n",
    "if __name__ == \"__main__\":\n",
    "# number of philosophers / chop sticks\n",
    "    n = 5\n",
    "\n",
    "    # butler for deadlock avoidance (n-1 available)\n",
    "    butler = Semaphore(n-1)"
   ]
  },
  {
   "cell_type": "code",
   "execution_count": 6,
   "metadata": {},
   "outputs": [],
   "source": [
    "Se = Semaphore(5)"
   ]
  },
  {
   "cell_type": "code",
   "execution_count": 8,
   "metadata": {},
   "outputs": [
    {
     "data": {
      "text/plain": [
       "<bound method Semaphore.up of <__main__.Semaphore object at 0x105029d68>>"
      ]
     },
     "execution_count": 8,
     "metadata": {},
     "output_type": "execute_result"
    }
   ],
   "source": [
    "Semaphore(5).up"
   ]
  },
  {
   "cell_type": "code",
   "execution_count": null,
   "metadata": {},
   "outputs": [],
   "source": []
  },
  {
   "cell_type": "code",
   "execution_count": 1,
   "metadata": {},
   "outputs": [],
   "source": [
    "class iterator:\n",
    "    def __init__(self, max = 0):\n",
    "        self.max = max\n",
    "\n",
    "    def __iter__(self):\n",
    "        self.n = 0\n",
    "        return self\n",
    "\n",
    "    def __next__(self):\n",
    "        if self.n <= self.max:\n",
    "            result = 2 ** self.n\n",
    "            self.n += 1\n",
    "            return result\n",
    "        else:\n",
    "            raise StopIteration\n",
    "\n",
    "\n",
    "if __name__ == \"__main__\":\n",
    "    a = iterator(8)\n",
    "    i = iter(a) # return an iterator object\n",
    "    i.__next__()\n",
    "    i.__next__()"
   ]
  },
  {
   "cell_type": "code",
   "execution_count": 2,
   "metadata": {},
   "outputs": [
    {
     "data": {
      "text/plain": [
       "2"
      ]
     },
     "execution_count": 2,
     "metadata": {},
     "output_type": "execute_result"
    }
   ],
   "source": [
    "a = iterator(8)\n",
    "i = iter(a)\n",
    "i.__next__()\n",
    "i.__next__()"
   ]
  },
  {
   "cell_type": "code",
   "execution_count": 3,
   "metadata": {},
   "outputs": [
    {
     "data": {
      "text/plain": [
       "4"
      ]
     },
     "execution_count": 3,
     "metadata": {},
     "output_type": "execute_result"
    }
   ],
   "source": [
    "i.__next__()"
   ]
  },
  {
   "cell_type": "code",
   "execution_count": 4,
   "metadata": {},
   "outputs": [
    {
     "data": {
      "text/plain": [
       "8"
      ]
     },
     "execution_count": 4,
     "metadata": {},
     "output_type": "execute_result"
    }
   ],
   "source": [
    "i.__next__()"
   ]
  },
  {
   "cell_type": "code",
   "execution_count": 9,
   "metadata": {},
   "outputs": [],
   "source": [
    "#!/usr/bin/python\n",
    "\n",
    "# Define a tree class\n",
    "class Tree:\n",
    "    def __init__(self, cargo, left=None, right=None):\n",
    "        self.cargo = cargo\n",
    "        self.left  = left\n",
    "        self.right = right\n",
    "\n",
    "    def __str__(self):\n",
    "        return str(self.cargo)\n",
    "\n",
    "\n",
    "def total_sum(tree):\n",
    "    if tree == None: return 0\n",
    "    return total_sum(tree.left) + total_sum(tree.right) + tree.cargo\n",
    "\n",
    "def print_tree(tree):\n",
    "    if tree == None: return\n",
    "    print (tree.cargo,) # parent node\n",
    "    print_tree(tree.left) # child left\n",
    "    print_tree(tree.right) # child right\n",
    "\n",
    "\n",
    "if __name__ == \"__main__\":\n",
    "    left = Tree(2)\n",
    "    right = Tree(3)\n",
    "    tree = Tree(1, left, right);"
   ]
  },
  {
   "cell_type": "code",
   "execution_count": 10,
   "metadata": {},
   "outputs": [
    {
     "name": "stdout",
     "output_type": "stream",
     "text": [
      "2\n"
     ]
    }
   ],
   "source": [
    "left = Tree(2)\n",
    "print(left)"
   ]
  },
  {
   "cell_type": "code",
   "execution_count": 11,
   "metadata": {},
   "outputs": [
    {
     "name": "stdout",
     "output_type": "stream",
     "text": [
      "3\n"
     ]
    }
   ],
   "source": [
    "right = Tree(3)\n",
    "print(right)"
   ]
  },
  {
   "cell_type": "code",
   "execution_count": 12,
   "metadata": {},
   "outputs": [
    {
     "name": "stdout",
     "output_type": "stream",
     "text": [
      "1\n",
      "2\n",
      "3\n"
     ]
    }
   ],
   "source": [
    "tree = Tree(1, left, right)\n",
    "print_tree(tree)"
   ]
  },
  {
   "cell_type": "markdown",
   "metadata": {},
   "source": [
    "## Message Passing with python"
   ]
  },
  {
   "cell_type": "code",
   "execution_count": null,
   "metadata": {},
   "outputs": [],
   "source": []
  },
  {
   "cell_type": "code",
   "execution_count": 13,
   "metadata": {},
   "outputs": [
    {
     "name": "stderr",
     "output_type": "stream",
     "text": [
      "(thread_0 ) Waiting to join the pool\n",
      "(thread_1 ) Waiting to join the pool\n",
      "(thread_2 ) Waiting to join the pool\n",
      "(thread_0 ) Running: ['thread_0']\n",
      "(thread_3 ) Waiting to join the pool\n",
      "(thread_4 ) Waiting to join the pool\n",
      "(thread_5 ) Waiting to join the pool\n",
      "(thread_6 ) Waiting to join the pool\n",
      "(thread_7 ) Waiting to join the pool\n",
      "(thread_8 ) Waiting to join the pool\n",
      "(thread_9 ) Waiting to join the pool\n",
      "(thread_1 ) Running: ['thread_0', 'thread_1']\n",
      "(thread_2 ) Running: ['thread_0', 'thread_1', 'thread_2']\n",
      "(thread_0 ) Running: ['thread_1', 'thread_2']\n",
      "(thread_3 ) Running: ['thread_1', 'thread_2', 'thread_3']\n",
      "(thread_1 ) Running: ['thread_2', 'thread_3']\n",
      "(thread_2 ) Running: ['thread_3']\n",
      "(thread_4 ) Running: ['thread_3', 'thread_4']\n",
      "(thread_5 ) Running: ['thread_3', 'thread_4', 'thread_5']\n",
      "(thread_3 ) Running: ['thread_4', 'thread_5']\n",
      "(thread_6 ) Running: ['thread_4', 'thread_5', 'thread_6']\n",
      "(thread_4 ) Running: ['thread_5', 'thread_6']\n",
      "(thread_5 ) Running: ['thread_6']\n",
      "(thread_7 ) Running: ['thread_6', 'thread_7']\n",
      "(thread_8 ) Running: ['thread_6', 'thread_7', 'thread_8']\n",
      "(thread_6 ) Running: ['thread_7', 'thread_8']\n",
      "(thread_9 ) Running: ['thread_7', 'thread_8', 'thread_9']\n",
      "(thread_7 ) Running: ['thread_8', 'thread_9']\n",
      "(thread_8 ) Running: ['thread_9']\n",
      "(thread_9 ) Running: []\n"
     ]
    }
   ],
   "source": [
    "import threading\n",
    "import time\n",
    "import logging\n",
    "\n",
    "logging.basicConfig(level=logging.DEBUG,\n",
    "                    format='(%(threadName)-9s) %(message)s',)\n",
    "\n",
    "class ThreadPool(object):\n",
    "    def __init__(self):\n",
    "        super(ThreadPool, self).__init__()\n",
    "        self.active = []\n",
    "        self.lock = threading.Lock()\n",
    "    def makeActive(self, name):\n",
    "        with self.lock:\n",
    "            self.active.append(name)\n",
    "            logging.debug('Running: %s', self.active)\n",
    "    def makeInactive(self, name):\n",
    "        with self.lock:\n",
    "            self.active.remove(name)\n",
    "            logging.debug('Running: %s', self.active)\n",
    "\n",
    "def f(s, pool):\n",
    "    logging.debug('Waiting to join the pool')\n",
    "    with s:\n",
    "        name = threading.currentThread().getName()\n",
    "        pool.makeActive(name)\n",
    "        time.sleep(0.5)\n",
    "        pool.makeInactive(name)\n",
    "\n",
    "if __name__ == '__main__':\n",
    "    pool = ThreadPool()\n",
    "    s = threading.Semaphore(3)\n",
    "    for i in range(10):\n",
    "        t = threading.Thread(target=f, name='thread_'+str(i), args=(s, pool))\n",
    "        t.start()"
   ]
  },
  {
   "cell_type": "code",
   "execution_count": null,
   "metadata": {},
   "outputs": [],
   "source": []
  },
  {
   "cell_type": "code",
   "execution_count": 14,
   "metadata": {},
   "outputs": [
    {
     "name": "stdout",
     "output_type": "stream",
     "text": [
      "Parked: 1Parking Requests: 1\n",
      "\n",
      "Parked: 2Parking Requests: 2\n",
      "\n",
      "Removed: 1Remove Requests: 1\n",
      "\n",
      "Parked: 3\n",
      "Parking Requests: 3\n",
      "Parked: 4\n",
      "Parking Requests: 4\n",
      "Parked: 5Parking Requests: 5\n",
      "\n",
      "Removed: 2Remove Requests: 2\n",
      "\n",
      "Parked: 6Parking Requests: 6\n",
      "\n",
      "Parked: 7Parking Requests: 7\n",
      "\n",
      "Parked: 8\n",
      "Parking Requests: 8\n",
      "Removed: 3Remove Requests: 3\n",
      "\n",
      "Parked: 9\n",
      "Parking Requests: 9\n",
      "Parked: 10Parking Requests: 10\n",
      "\n",
      "Parked: 11\n",
      "Parking Requests: 11\n",
      "Removed: 4Remove Requests: 4\n",
      "\n",
      "Parked: 12Parking Requests: 12\n",
      "\n",
      "Parked: 13Parking Requests: 13\n",
      "\n",
      "Parked: 14Parking Requests: 14\n",
      "\n",
      "Removed: 5Remove Requests: 5\n",
      "\n",
      "Parked: 15Parking Requests: 15\n",
      "\n",
      "Parking Requests: 16\n",
      "Parking Requests: 17\n",
      "Removed: 6Remove Requests: 6\n",
      "\n",
      "Parked: 16\n",
      "Parking Requests: 18\n",
      "Parking Requests: 19\n",
      "Parking Requests: 20\n",
      "Removed: 7\n",
      "Remove Requests: 7Parked: 17\n",
      "\n",
      "Parking Requests: 21\n",
      "Parking Requests: 22\n",
      "Parking Requests: 23\n",
      "Removed: 8Remove Requests: 8Parked: 18\n",
      "\n",
      "\n",
      "Parking Requests: 24\n",
      "Parking Requests: 25\n"
     ]
    }
   ],
   "source": [
    "\n",
    "# An example python program using semaphore provided by the python threading module\n",
    "\n",
    "import threading\n",
    "import time\n",
    "\n",
    " \n",
    "\n",
    "parkRequests    = 0\n",
    "removeRequests  = 0\n",
    "\n",
    " \n",
    "\n",
    "parked          = 0\n",
    "removed         = 0\n",
    "\n",
    " \n",
    "\n",
    "parkedLock      = threading.Lock()\n",
    "removedLock     = threading.Lock()\n",
    "\n",
    " \n",
    "\n",
    "availbleParkings = threading.Semaphore(10)\n",
    "\n",
    "def ParkCar():\n",
    "    availbleParkings.acquire()\n",
    "    global parkedLock\n",
    "    parkedLock.acquire()\n",
    "\n",
    "    global parked\n",
    "    parked = parked+1\n",
    "    parkedLock.release()\n",
    "    print(\"Parked: %d\"%(parked))      \n",
    "\n",
    "def RemoveCar():\n",
    "    availbleParkings.release()\n",
    "    global removedLock\n",
    "    removedLock.acquire()\n",
    "\n",
    "    global removed\n",
    "    removed = removed+1\n",
    "    removedLock.release()\n",
    "    print(\"Removed: %d\"%(removed))       \n",
    "# Thread that simulates the entry of cars into the parking lot\n",
    "\n",
    "def parkingEntry():\n",
    "    # Creates multiple threads inside to simulate cars that are parked\n",
    "\n",
    "    while(True):\n",
    "        time.sleep(1)\n",
    "        incomingCar = threading.Thread(target=ParkCar)\n",
    "        incomingCar.start()\n",
    "\n",
    "        global parkRequests\n",
    "        parkRequests = parkRequests+1\n",
    "        print(\"Parking Requests: %d\"%(parkRequests))\n",
    "\n",
    " \n",
    "# Thread that simulates the exit of cars from the parking lot\n",
    "\n",
    "def parkingExit():\n",
    "    # Creates multiple threads inside to simulate cars taken out from the parking lot\n",
    "\n",
    "    while(True):\n",
    "        time.sleep(3)\n",
    "        outgoingCar = threading.Thread(target=RemoveCar)\n",
    "        outgoingCar.start()\n",
    "\n",
    "        global removeRequests\n",
    "        removeRequests = removeRequests+1\n",
    "        print(\"Remove Requests: %d\"%(removeRequests))\n",
    "\n",
    " \n",
    "# Start the parking eco-system\n",
    "\n",
    "parkingEntryThread      = threading.Thread(target=parkingEntry)\n",
    "parkingExitThread       = threading.Thread(target=parkingExit)\n",
    "\n",
    " \n",
    "parkingEntryThread.start()\n",
    "parkingExitThread.start()"
   ]
  },
  {
   "cell_type": "code",
   "execution_count": null,
   "metadata": {},
   "outputs": [],
   "source": []
  },
  {
   "cell_type": "code",
   "execution_count": null,
   "metadata": {},
   "outputs": [],
   "source": []
  },
  {
   "cell_type": "markdown",
   "metadata": {},
   "source": [
    "## Barrier "
   ]
  },
  {
   "cell_type": "code",
   "execution_count": 15,
   "metadata": {},
   "outputs": [
    {
     "name": "stdout",
     "output_type": "stream",
     "text": [
      "thread_1  in process\n",
      "thread_2 thread_3  in process\n",
      " in process\n",
      "thread_4  in process\n",
      "thread_5  in process\n",
      "thread_6  in process\n",
      "Parking Requests: 32\n",
      "Removed: 11Remove Requests: 11\n",
      "Parked: 21\n",
      "\n",
      "Parking Requests: 33\n",
      "thread_3thread_1  finished\n",
      "  finished\n",
      "thread_2  finished\n",
      "thread_4  finished\n",
      "thread_5thread_6  finished\n",
      "  finished\n",
      "Parking Requests: 34\n",
      "Parking Requests: 35\n",
      "Removed: 12\n",
      "Remove Requests: 12\n",
      "Parked: 22\n",
      "Parking Requests: 36\n",
      "Parking Requests: 37\n",
      "Parking Requests: 38\n",
      "Removed: 13Remove Requests: 13\n",
      "\n",
      "Parked: 23\n",
      "Parking Requests: 39\n"
     ]
    }
   ],
   "source": [
    "import threading\n",
    "import time\n",
    "\n",
    "class MyThread(threading.Thread):\n",
    "    global event\n",
    " \n",
    "    def run(self):\n",
    "        global barrier\n",
    "        print(threading.current_thread().getName(), \" in process\")\n",
    "        time.sleep(2)\n",
    "        barrier.wait()\n",
    "        print(threading.current_thread().getName(), \" finished\")  \n",
    "   \n",
    " \n",
    "global barrier\n",
    "barrier=threading.Barrier(3)\n",
    " \n",
    "thread1 = MyThread(name=\"thread_1\")\n",
    "thread2 = MyThread(name=\"thread_2\")\n",
    "thread3 = MyThread(name=\"thread_3\")\n",
    "thread4 = MyThread(name=\"thread_4\")\n",
    "thread5 = MyThread(name=\"thread_5\")\n",
    "thread6 = MyThread(name=\"thread_6\")\n",
    "\n",
    "thread1.start()\n",
    "thread2.start()\n",
    "thread3.start()\n",
    "thread4.start()\n",
    "thread5.start()\n",
    "thread6.start()"
   ]
  },
  {
   "cell_type": "code",
   "execution_count": null,
   "metadata": {},
   "outputs": [],
   "source": []
  },
  {
   "cell_type": "markdown",
   "metadata": {},
   "source": [
    "## Mutex"
   ]
  },
  {
   "cell_type": "code",
   "execution_count": 3,
   "metadata": {},
   "outputs": [],
   "source": [
    "import random"
   ]
  },
  {
   "cell_type": "code",
   "execution_count": 4,
   "metadata": {},
   "outputs": [
    {
     "name": "stdout",
     "output_type": "stream",
     "text": [
      "The first thread is now sleeping\n",
      "The second thread is now sleeping\n",
      "First thread is finished\n",
      "Second thread is finished\n"
     ]
    }
   ],
   "source": [
    "# Python create mutex\n",
    "my_mutex = threading.Lock()\n",
    "class thread_one(threading.Thread):\n",
    "    def run(self):\n",
    "        # Python mutex global\n",
    "        global my_mutex\n",
    "        print (\"The first thread is now sleeping\")\n",
    "        time.sleep(random.randint(1, 5))\n",
    "        print(\"First thread is finished\")\n",
    "        # Python release mutex: once the first thread\n",
    "        # is done, we release the lock\n",
    "        my_mutex.release()\n",
    "\n",
    "        \n",
    "class thread_two(threading.Thread):\n",
    "    def run(self):\n",
    "        # Python mutex global\n",
    "        global my_mutex\n",
    "        print (\"The second thread is now sleeping\")\n",
    "        time.sleep(random.randint(1, 5))\n",
    "        # Python mutex acquire: second thread has to\n",
    "        # to keep waiting until the lock is released\n",
    "        my_mutex.acquire()\n",
    "        print(\"Second thread is finished\")\n",
    " \n",
    "\n",
    "# Python mutex acquire: main thread is acquiring the lock \n",
    "my_mutex.acquire()\n",
    "t1 = thread_one()\n",
    "t2 = thread_two()\n",
    "t1.start()\n",
    "t2.start()"
   ]
  },
  {
   "cell_type": "code",
   "execution_count": null,
   "metadata": {},
   "outputs": [],
   "source": []
  },
  {
   "cell_type": "code",
   "execution_count": null,
   "metadata": {},
   "outputs": [],
   "source": []
  }
 ],
 "metadata": {
  "kernelspec": {
   "display_name": "Python 3",
   "language": "python",
   "name": "python3"
  },
  "language_info": {
   "codemirror_mode": {
    "name": "ipython",
    "version": 3
   },
   "file_extension": ".py",
   "mimetype": "text/x-python",
   "name": "python",
   "nbconvert_exporter": "python",
   "pygments_lexer": "ipython3",
   "version": "3.6.5"
  }
 },
 "nbformat": 4,
 "nbformat_minor": 2
}
