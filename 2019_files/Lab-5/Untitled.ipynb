{
 "cells": [
  {
   "cell_type": "code",
   "execution_count": 1,
   "metadata": {},
   "outputs": [],
   "source": [
    "def shakerSort(List):\n",
    "    result = List[:]\n",
    "    n = len(result)\n",
    "    for pos in range(n-1, 0, -1):\n",
    "        swap = 0\n",
    "        for i in range(n-pos-1, pos):\n",
    "            if result[i] > result[i+1]:\n",
    "                result[i], result[i+1] = result[i+1], result[i]\n",
    "                swap = 1\n",
    "        for j in range(pos-1, n-pos-1, -1):\n",
    "            if result[j] < result[j-1]:\n",
    "                result[j], result[j-1] = result[j-1], result[j]\n",
    "                swap = 1\n",
    "        if swap == 0:\n",
    "            return result"
   ]
  },
  {
   "cell_type": "code",
   "execution_count": 2,
   "metadata": {},
   "outputs": [
    {
     "data": {
      "text/plain": [
       "[-34, 0.354, 0.43, 4, 34, 34, 45, 45, 245, 5245, 34523]"
      ]
     },
     "execution_count": 2,
     "metadata": {},
     "output_type": "execute_result"
    }
   ],
   "source": [
    "shakerSort([0.43,45,4,245,-34,34,5245,34523,0.354,34,45])"
   ]
  },
  {
   "cell_type": "code",
   "execution_count": null,
   "metadata": {},
   "outputs": [],
   "source": []
  },
  {
   "cell_type": "code",
   "execution_count": 4,
   "metadata": {},
   "outputs": [],
   "source": [
    "# Problem 4\n",
    "def selectionSort(List):\n",
    "    n = len(List)\n",
    "    for j in range(n-1):\n",
    "        min_ind = j\n",
    "        for i in range(j+1, n):\n",
    "            if(List[i] < List[min_ind]):\n",
    "                min_ind = i\n",
    "        if(min_ind != j):\n",
    "            List[j], List[min_ind] = List[min_ind], List[j]\n",
    "    return(List)\n"
   ]
  },
  {
   "cell_type": "code",
   "execution_count": 5,
   "metadata": {},
   "outputs": [
    {
     "data": {
      "text/plain": [
       "[-45, -0.47, 0.677, 2, 67, 345, 456, 456, 4456, 4736, 6456.567]"
      ]
     },
     "execution_count": 5,
     "metadata": {},
     "output_type": "execute_result"
    }
   ],
   "source": [
    "selectionSort([67,-45,456,-0.47,456,4456,0.677,6456.567,4736,345,2])"
   ]
  },
  {
   "cell_type": "code",
   "execution_count": null,
   "metadata": {},
   "outputs": [],
   "source": []
  },
  {
   "cell_type": "code",
   "execution_count": null,
   "metadata": {},
   "outputs": [],
   "source": []
  },
  {
   "cell_type": "code",
   "execution_count": null,
   "metadata": {},
   "outputs": [],
   "source": []
  },
  {
   "cell_type": "code",
   "execution_count": 30,
   "metadata": {},
   "outputs": [],
   "source": [
    "# Problem 5\n",
    "import random as rd\n",
    "def isPrime(num):\n",
    "    if num%2 != 1:\n",
    "        return False\n",
    "    if num in [2,3,5,7]:\n",
    "        return True\n",
    "    s = 0\n",
    "    d = num - 1\n",
    "    while d%2 == 0:\n",
    "        d >>= 1\n",
    "        s += 1\n",
    "    assert(num-1 == 2**s * d)\n",
    "    \n",
    "    def proc(a):\n",
    "        if pow(a, d, num) == 1:\n",
    "            return False\n",
    "        for j in range(s):\n",
    "            if pow(a, 2**i * d, num) == num-1:\n",
    "                return False\n",
    "        return True\n",
    "    \n",
    "    for i in range(66):\n",
    "        a = rd.randrange(2, num)\n",
    "        if proc(a):\n",
    "            return False\n",
    "        return True"
   ]
  },
  {
   "cell_type": "code",
   "execution_count": 44,
   "metadata": {},
   "outputs": [
    {
     "data": {
      "text/plain": [
       "False"
      ]
     },
     "execution_count": 44,
     "metadata": {},
     "output_type": "execute_result"
    }
   ],
   "source": [
    "isPrime(113)"
   ]
  },
  {
   "cell_type": "code",
   "execution_count": 46,
   "metadata": {},
   "outputs": [
    {
     "data": {
      "text/plain": [
       "True"
      ]
     },
     "execution_count": 46,
     "metadata": {},
     "output_type": "execute_result"
    }
   ],
   "source": [
    "isPrime(239)"
   ]
  },
  {
   "cell_type": "code",
   "execution_count": 23,
   "metadata": {},
   "outputs": [
    {
     "ename": "SyntaxError",
     "evalue": "'return' outside function (<ipython-input-23-78c70f26afde>, line 4)",
     "output_type": "error",
     "traceback": [
      "\u001b[0;36m  File \u001b[0;32m\"<ipython-input-23-78c70f26afde>\"\u001b[0;36m, line \u001b[0;32m4\u001b[0m\n\u001b[0;31m    return False\u001b[0m\n\u001b[0m    ^\u001b[0m\n\u001b[0;31mSyntaxError\u001b[0m\u001b[0;31m:\u001b[0m 'return' outside function\n"
     ]
    }
   ],
   "source": []
  },
  {
   "cell_type": "code",
   "execution_count": 51,
   "metadata": {},
   "outputs": [],
   "source": [
    "def Selection_Sort(L):\n",
    "    #Number of elements in input list\n",
    "    num_el = len(L)\n",
    "    #variable for final sorted list\n",
    "    L_s = list()\n",
    "\n",
    "    #Number of sorting rounds = full length of list.\n",
    "    for k in range(num_el):\n",
    "\n",
    "        for i in range(1,len(L)):\n",
    "            #set minimum to first element in beginning of unsorted source list\n",
    "            min = L[i-1]\n",
    "            # determine which of two adjacent elements in unsorted source list is\n",
    "            # smallest\n",
    "            if (L[i-1] >= L[i]):\n",
    "                min = L[i]\n",
    "            else:\n",
    "                min = L[i-1]\n",
    "            print(min)\n",
    "\n",
    "        if (len(L) == 1):\n",
    "            min = L[0]\n",
    "            # remove smallest element from current source list\n",
    "            L.remove(min)\n",
    "            # add smallest element to end of new \"sorted\" list\n",
    "            L_s.append(min)\n",
    "\n",
    "      #return sorted list\n",
    "        return L_s\n"
   ]
  },
  {
   "cell_type": "code",
   "execution_count": 52,
   "metadata": {},
   "outputs": [
    {
     "ename": "TypeError",
     "evalue": "'function' object is not subscriptable",
     "output_type": "error",
     "traceback": [
      "\u001b[0;31m---------------------------------------------------------------------------\u001b[0m",
      "\u001b[0;31mTypeError\u001b[0m                                 Traceback (most recent call last)",
      "\u001b[0;32m<ipython-input-52-a860facf9a95>\u001b[0m in \u001b[0;36m<module>\u001b[0;34m()\u001b[0m\n\u001b[0;32m----> 1\u001b[0;31m \u001b[0mSelection_Sort\u001b[0m\u001b[0;34m[\u001b[0m\u001b[0;36m234\u001b[0m\u001b[0;34m,\u001b[0m\u001b[0;36m456\u001b[0m\u001b[0;34m,\u001b[0m\u001b[0;36m3\u001b[0m\u001b[0;34m,\u001b[0m\u001b[0;36m6\u001b[0m\u001b[0;34m,\u001b[0m\u001b[0;36m4\u001b[0m\u001b[0;34m,\u001b[0m\u001b[0;36m57\u001b[0m\u001b[0;34m,\u001b[0m\u001b[0;36m4\u001b[0m\u001b[0;34m,\u001b[0m\u001b[0;36m6\u001b[0m\u001b[0;34m,\u001b[0m\u001b[0;36m46\u001b[0m\u001b[0;34m,\u001b[0m\u001b[0;36m4\u001b[0m\u001b[0;34m]\u001b[0m\u001b[0;34m\u001b[0m\u001b[0m\n\u001b[0m",
      "\u001b[0;31mTypeError\u001b[0m: 'function' object is not subscriptable"
     ]
    }
   ],
   "source": [
    "Selection_Sort[234,456,3,6,4,57,4,6,46,4]"
   ]
  },
  {
   "cell_type": "code",
   "execution_count": 55,
   "metadata": {},
   "outputs": [],
   "source": [
    "def Selection_Sort(L):\n",
    "        #Number of elements in input list\n",
    "        num_el = len(L)\n",
    "        #variable for final sorted list\n",
    "        L_s = list()\n",
    "\n",
    "    #Number of sorting rounds = full length of list.\n",
    "        for k in range(num_el):\n",
    "\n",
    "            for i in range(1,len(L)):\n",
    "                #set minimum to first element in beginning of unsorted source list\n",
    "                min = L[i-1]\n",
    "              # determine which of two adjacent elements in unsorted source list is\n",
    "              # smallest\n",
    "                if (L[i-1] >= L[i]):\n",
    "                    min = L[i]\n",
    "                else:\n",
    "                    min = L[i-1]\n",
    "                print(min)\n",
    "\n",
    "            if (len(L) == 1):\n",
    "                min = L[0]\n",
    "            # remove smallest element from current source list\n",
    "            L.remove(min)\n",
    "            # add smallest element to end of new \"sorted\" list\n",
    "            L_s.append(min)\n",
    "        return(L_s)"
   ]
  },
  {
   "cell_type": "code",
   "execution_count": 56,
   "metadata": {},
   "outputs": [
    {
     "name": "stdout",
     "output_type": "stream",
     "text": [
      "234\n",
      "3\n",
      "3\n",
      "4\n",
      "4\n",
      "4\n",
      "4\n",
      "6\n",
      "4\n",
      "234\n",
      "3\n",
      "3\n",
      "6\n",
      "4\n",
      "4\n",
      "6\n",
      "4\n",
      "234\n",
      "3\n",
      "3\n",
      "6\n",
      "6\n",
      "6\n",
      "4\n",
      "234\n",
      "3\n",
      "3\n",
      "6\n",
      "6\n",
      "6\n",
      "234\n",
      "3\n",
      "3\n",
      "6\n",
      "6\n",
      "234\n",
      "3\n",
      "3\n",
      "46\n",
      "234\n",
      "3\n",
      "3\n",
      "234\n",
      "57\n",
      "234\n"
     ]
    },
    {
     "data": {
      "text/plain": [
       "[4, 4, 4, 6, 6, 46, 3, 57, 234, 456]"
      ]
     },
     "execution_count": 56,
     "metadata": {},
     "output_type": "execute_result"
    }
   ],
   "source": [
    "Selection_Sort([234,456,3,6,4,57,4,6,46,4])"
   ]
  },
  {
   "cell_type": "code",
   "execution_count": null,
   "metadata": {},
   "outputs": [],
   "source": []
  }
 ],
 "metadata": {
  "kernelspec": {
   "display_name": "Python 3",
   "language": "python",
   "name": "python3"
  },
  "language_info": {
   "codemirror_mode": {
    "name": "ipython",
    "version": 3
   },
   "file_extension": ".py",
   "mimetype": "text/x-python",
   "name": "python",
   "nbconvert_exporter": "python",
   "pygments_lexer": "ipython3",
   "version": "3.6.5"
  }
 },
 "nbformat": 4,
 "nbformat_minor": 2
}
