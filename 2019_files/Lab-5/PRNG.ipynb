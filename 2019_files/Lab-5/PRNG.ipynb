{
 "cells": [
  {
   "cell_type": "markdown",
   "metadata": {},
   "source": [
    "# Psuedo Random Number Generation (PRNG)"
   ]
  },
  {
   "cell_type": "code",
   "execution_count": 1,
   "metadata": {},
   "outputs": [],
   "source": [
    "import matplotlib.pyplot as plt\n",
    "import numpy as np"
   ]
  },
  {
   "cell_type": "code",
   "execution_count": 2,
   "metadata": {},
   "outputs": [],
   "source": [
    "%matplotlib inline"
   ]
  },
  {
   "cell_type": "code",
   "execution_count": 3,
   "metadata": {},
   "outputs": [],
   "source": [
    "def midSqaureMethod(seed, rep):\n",
    "    sequence = []\n",
    "    square = seed**2\n",
    "    for i in range(rep):\n",
    "        number = str(square)\n",
    "        number = number.zfill(8)\n",
    "        new = int(number[2:6])\n",
    "        sequence.append(float(new)/10000)\n",
    "        square = new**2\n",
    "    return sequence\n",
    "        \n",
    "        "
   ]
  },
  {
   "cell_type": "markdown",
   "metadata": {},
   "source": [
    "# Checking the uniformity "
   ]
  },
  {
   "cell_type": "code",
   "execution_count": 6,
   "metadata": {},
   "outputs": [],
   "source": [
    "Seq1 = midSqaureMethod(4539, 100)"
   ]
  },
  {
   "cell_type": "code",
   "execution_count": 7,
   "metadata": {},
   "outputs": [
    {
     "data": {
      "text/plain": [
       "Text(0,0.5,'Frequency')"
      ]
     },
     "execution_count": 7,
     "metadata": {},
     "output_type": "execute_result"
    },
    {
     "data": {
      "image/png": "[encoded data removed]",
      "text/plain": [
       "<Figure size 432x288 with 1 Axes>"
      ]
     },
     "metadata": {},
     "output_type": "display_data"
    }
   ],
   "source": [
    "plt.hist(Seq1)\n",
    "plt.title(\"Histogram random numbers generated by mid-square method\")\n",
    "plt.xlabel(\"Value\")\n",
    "plt.ylabel(\"Frequency\")"
   ]
  },
  {
   "cell_type": "code",
   "execution_count": 8,
   "metadata": {},
   "outputs": [
    {
     "data": {
      "text/plain": [
       "[0.4484,\n",
       " 0.1062,\n",
       " 0.1278,\n",
       " 0.6332,\n",
       " 0.0942,\n",
       " 0.8873,\n",
       " 0.7301,\n",
       " 0.3046,\n",
       " 0.2781,\n",
       " 0.7339,\n",
       " 0.8609,\n",
       " 0.1148,\n",
       " 0.3179,\n",
       " 0.106,\n",
       " 0.1236,\n",
       " 0.5276,\n",
       " 0.8361,\n",
       " 0.9063,\n",
       " 0.1379,\n",
       " 0.9016,\n",
       " 0.2882,\n",
       " 0.3059,\n",
       " 0.3574,\n",
       " 0.7734,\n",
       " 0.8147,\n",
       " 0.3736,\n",
       " 0.9576,\n",
       " 0.6997,\n",
       " 0.958,\n",
       " 0.7764,\n",
       " 0.2796,\n",
       " 0.8176,\n",
       " 0.8469,\n",
       " 0.7239,\n",
       " 0.4031,\n",
       " 0.2489,\n",
       " 0.1951,\n",
       " 0.8064,\n",
       " 0.028,\n",
       " 0.0784,\n",
       " 0.6146,\n",
       " 0.7733,\n",
       " 0.7992,\n",
       " 0.872,\n",
       " 0.0384,\n",
       " 0.1474,\n",
       " 0.1726,\n",
       " 0.979,\n",
       " 0.8441,\n",
       " 0.2504,\n",
       " 0.27,\n",
       " 0.29,\n",
       " 0.41,\n",
       " 0.81,\n",
       " 0.61,\n",
       " 0.21,\n",
       " 0.41,\n",
       " 0.81,\n",
       " 0.61,\n",
       " 0.21,\n",
       " 0.41,\n",
       " 0.81,\n",
       " 0.61,\n",
       " 0.21,\n",
       " 0.41,\n",
       " 0.81,\n",
       " 0.61,\n",
       " 0.21,\n",
       " 0.41,\n",
       " 0.81,\n",
       " 0.61,\n",
       " 0.21,\n",
       " 0.41,\n",
       " 0.81,\n",
       " 0.61,\n",
       " 0.21,\n",
       " 0.41,\n",
       " 0.81,\n",
       " 0.61,\n",
       " 0.21,\n",
       " 0.41,\n",
       " 0.81,\n",
       " 0.61,\n",
       " 0.21,\n",
       " 0.41,\n",
       " 0.81,\n",
       " 0.61,\n",
       " 0.21,\n",
       " 0.41,\n",
       " 0.81,\n",
       " 0.61,\n",
       " 0.21,\n",
       " 0.41,\n",
       " 0.81,\n",
       " 0.61,\n",
       " 0.21,\n",
       " 0.41,\n",
       " 0.81,\n",
       " 0.61,\n",
       " 0.21]"
      ]
     },
     "execution_count": 8,
     "metadata": {},
     "output_type": "execute_result"
    }
   ],
   "source": [
    "midSqaureMethod(4522, 100)"
   ]
  },
  {
   "cell_type": "code",
   "execution_count": 9,
   "metadata": {},
   "outputs": [],
   "source": [
    "Seq1 = midSqaureMethod(4522, 200)"
   ]
  },
  {
   "cell_type": "code",
   "execution_count": 10,
   "metadata": {},
   "outputs": [
    {
     "data": {
      "text/plain": [
       "Text(0,0.5,'Frequency')"
      ]
     },
     "execution_count": 10,
     "metadata": {},
     "output_type": "execute_result"
    },
    {
     "data": {
      "image/png": "[encoded data removed]",
      "text/plain": [
       "<Figure size 432x288 with 1 Axes>"
      ]
     },
     "metadata": {},
     "output_type": "display_data"
    }
   ],
   "source": [
    "plt.hist(Seq1)\n",
    "plt.title(\"Histogram random numbers generated by mid-square method\")\n",
    "plt.xlabel(\"Value\")\n",
    "plt.ylabel(\"Frequency\")"
   ]
  },
  {
   "cell_type": "markdown",
   "metadata": {},
   "source": [
    "# Linear Congruential Generators"
   ]
  },
  {
   "cell_type": "code",
   "execution_count": 9,
   "metadata": {},
   "outputs": [],
   "source": [
    "def linCongruentialGen(seed, a, c, m, rep):\n",
    "    seq = []\n",
    "    seq.append(seed)\n",
    "    for i in range(1, rep):\n",
    "        new = (a*seq[i-1]+c) % m\n",
    "        seq.append(new)\n",
    "    seq = [x/float(m) for x in seq]\n",
    "    return seq\n",
    "    "
   ]
  },
  {
   "cell_type": "code",
   "execution_count": 10,
   "metadata": {},
   "outputs": [],
   "source": [
    "a = linCongruentialGen(232, 23, 2, 2312312, 10000)"
   ]
  },
  {
   "cell_type": "code",
   "execution_count": 11,
   "metadata": {},
   "outputs": [
    {
     "data": {
      "text/plain": [
       "Text(0,0.5,'Frequency')"
      ]
     },
     "execution_count": 11,
     "metadata": {},
     "output_type": "execute_result"
    },
    {
     "data": {
      "image/png": "[encoded data removed]",
      "text/plain": [
       "<Figure size 432x288 with 1 Axes>"
      ]
     },
     "metadata": {},
     "output_type": "display_data"
    }
   ],
   "source": [
    "plt.hist(a)\n",
    "plt.title(\"Histogram random numbers generated by Linear Congruential Generators\")\n",
    "plt.xlabel(\"Value\")\n",
    "plt.ylabel(\"Frequency\")"
   ]
  },
  {
   "cell_type": "code",
   "execution_count": 12,
   "metadata": {},
   "outputs": [],
   "source": [
    "b = linCongruentialGen(232, 23, 2, 312, 10000)"
   ]
  },
  {
   "cell_type": "code",
   "execution_count": 13,
   "metadata": {},
   "outputs": [
    {
     "data": {
      "text/plain": [
       "Text(0,0.5,'Frequency')"
      ]
     },
     "execution_count": 13,
     "metadata": {},
     "output_type": "execute_result"
    },
    {
     "data": {
      "image/png": "[encoded data removed]",
      "text/plain": [
       "<Figure size 432x288 with 1 Axes>"
      ]
     },
     "metadata": {},
     "output_type": "display_data"
    }
   ],
   "source": [
    "plt.hist(b)\n",
    "plt.title(\"Histogram random numbers generated by Linear Congruential Generators\")\n",
    "plt.xlabel(\"Value\")\n",
    "plt.ylabel(\"Frequency\")"
   ]
  },
  {
   "cell_type": "markdown",
   "metadata": {},
   "source": [
    "# Mersenne Twister"
   ]
  },
  {
   "cell_type": "code",
   "execution_count": 15,
   "metadata": {},
   "outputs": [],
   "source": [
    "import random\n",
    "import numpy as np\n",
    "import math\n",
    "import itertools\n",
    "import scipy.spatial.distance"
   ]
  },
  {
   "cell_type": "markdown",
   "metadata": {},
   "source": [
    "# Doing some diehard tests"
   ]
  },
  {
   "cell_type": "markdown",
   "metadata": {},
   "source": [
    "### Minimum Distance Test"
   ]
  },
  {
   "cell_type": "code",
   "execution_count": 16,
   "metadata": {},
   "outputs": [],
   "source": [
    "distList = []\n",
    "for i in range(100):\n",
    "    seq1 = np.random.uniform(0,10000,8000)\n",
    "    seq2 = np.random.uniform(0,10000,8000)\n",
    "    \n",
    "    combined = np.vstack((seq1, seq2)).T\n",
    "    \n",
    "    a = scipy.spatial.distance.pdist(combined)\n",
    "    \n",
    "    distList.append(min(a))"
   ]
  },
  {
   "cell_type": "code",
   "execution_count": 17,
   "metadata": {},
   "outputs": [],
   "source": [
    "u = [a**2 for a in distList]"
   ]
  },
  {
   "cell_type": "code",
   "execution_count": 18,
   "metadata": {},
   "outputs": [
    {
     "data": {
      "text/plain": [
       "Text(0,0.5,'Frequency')"
      ]
     },
     "execution_count": 18,
     "metadata": {},
     "output_type": "execute_result"
    },
    {
     "data": {
      "image/png": "[encoded data removed]",
      "text/plain": [
       "<Figure size 432x288 with 1 Axes>"
      ]
     },
     "metadata": {},
     "output_type": "display_data"
    }
   ],
   "source": [
    "plt.hist(u)\n",
    "plt.title(\"Distribution from minimum-distance test\")\n",
    "plt.xlabel(\"Value\")\n",
    "plt.ylabel(\"Frequency\")"
   ]
  },
  {
   "cell_type": "markdown",
   "metadata": {},
   "source": [
    "## The Overlapping Sums Test"
   ]
  },
  {
   "cell_type": "code",
   "execution_count": 19,
   "metadata": {},
   "outputs": [],
   "source": [
    "seq1 = np.random.uniform(0,1,100000)"
   ]
  },
  {
   "cell_type": "code",
   "execution_count": 20,
   "metadata": {},
   "outputs": [],
   "source": [
    "partialSum = []\n",
    "for i in range(20000):\n",
    "    partialSum.append(sum(seq1[i:i+100]))"
   ]
  },
  {
   "cell_type": "code",
   "execution_count": 21,
   "metadata": {},
   "outputs": [
    {
     "data": {
      "text/plain": [
       "Text(0,0.5,'Frequency')"
      ]
     },
     "execution_count": 21,
     "metadata": {},
     "output_type": "execute_result"
    },
    {
     "data": {
      "image/png": "[encoded data removed]",
      "text/plain": [
       "<Figure size 432x288 with 1 Axes>"
      ]
     },
     "metadata": {},
     "output_type": "display_data"
    }
   ],
   "source": [
    "plt.hist(partialSum)\n",
    "plt.title(\"Distribution from overlapping sums test\")\n",
    "plt.xlabel(\"Value\")\n",
    "plt.ylabel(\"Frequency\")"
   ]
  },
  {
   "cell_type": "code",
   "execution_count": null,
   "metadata": {},
   "outputs": [],
   "source": []
  }
 ],
 "metadata": {
  "kernelspec": {
   "display_name": "Python 3",
   "language": "python",
   "name": "python3"
  },
  "language_info": {
   "codemirror_mode": {
    "name": "ipython",
    "version": 3
   },
   "file_extension": ".py",
   "mimetype": "text/x-python",
   "name": "python",
   "nbconvert_exporter": "python",
   "pygments_lexer": "ipython3",
   "version": "3.6.5"
  }
 },
 "nbformat": 4,
 "nbformat_minor": 1
}
